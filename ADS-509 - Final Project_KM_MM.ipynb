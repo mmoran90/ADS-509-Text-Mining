{
 "cells": [
  {
   "cell_type": "markdown",
   "id": "OV9J4SVuJnEB",
   "metadata": {
    "id": "OV9J4SVuJnEB"
   },
   "source": [
    "### Import libraries and packages"
   ]
  },
  {
   "cell_type": "code",
   "execution_count": 1,
   "id": "554b72a0-9ad2-4edc-83cb-78ac1a4f3305",
   "metadata": {
    "executionInfo": {
     "elapsed": 878,
     "status": "ok",
     "timestamp": 1728526074457,
     "user": {
      "displayName": "Katie Mears",
      "userId": "01706533416920320829"
     },
     "user_tz": 420
    },
    "id": "554b72a0-9ad2-4edc-83cb-78ac1a4f3305"
   },
   "outputs": [],
   "source": [
    "# import libraries and packages\n",
    "import pandas as pd\n",
    "import requests\n",
    "from io import StringIO\n",
    "import re\n",
    "from sklearn.model_selection import train_test_split\n",
    "from sklearn.feature_extraction.text import TfidfVectorizer\n",
    "from sklearn.svm import SVC\n",
    "from sklearn.multiclass import OneVsRestClassifier\n",
    "from sklearn.preprocessing import MultiLabelBinarizer\n",
    "from sklearn.metrics import classification_report, accuracy_score\n",
    "from nltk.corpus import stopwords\n",
    "from nltk.tokenize import word_tokenize\n",
    "import nltk\n",
    "from xgboost import XGBClassifier\n",
    "import matplotlib.pyplot as plt\n",
    "import seaborn as sns\n",
    "\n"
   ]
  },
  {
   "cell_type": "code",
   "execution_count": 2,
   "id": "5d0b37c2-87f5-48a2-b271-3ab52e2046cb",
   "metadata": {
    "colab": {
     "base_uri": "https://localhost:8080/"
    },
    "executionInfo": {
     "elapsed": 4,
     "status": "ok",
     "timestamp": 1728525320729,
     "user": {
      "displayName": "Katie Mears",
      "userId": "01706533416920320829"
     },
     "user_tz": 420
    },
    "id": "5d0b37c2-87f5-48a2-b271-3ab52e2046cb",
    "outputId": "20364ffe-ac86-41bf-e901-fb53a068195f"
   },
   "outputs": [
    {
     "name": "stderr",
     "output_type": "stream",
     "text": [
      "[nltk_data] Downloading package stopwords to\n",
      "[nltk_data]     C:\\Users\\marvi\\AppData\\Roaming\\nltk_data...\n",
      "[nltk_data]   Package stopwords is already up-to-date!\n",
      "[nltk_data] Downloading package punkt to\n",
      "[nltk_data]     C:\\Users\\marvi\\AppData\\Roaming\\nltk_data...\n",
      "[nltk_data]   Package punkt is already up-to-date!\n"
     ]
    }
   ],
   "source": [
    "# import additional requirements\n",
    "nltk.download('stopwords')\n",
    "nltk.download('punkt')\n",
    "stop_words = set(stopwords.words('english'))"
   ]
  },
  {
   "cell_type": "markdown",
   "id": "560fbbbf-483d-4755-b9ed-3730bdd6edd1",
   "metadata": {
    "id": "560fbbbf-483d-4755-b9ed-3730bdd6edd1"
   },
   "source": [
    "## EDA ##"
   ]
  },
  {
   "cell_type": "code",
   "execution_count": 3,
   "id": "7dc62c43-2acf-46d1-93e3-b26513e9873a",
   "metadata": {
    "colab": {
     "base_uri": "https://localhost:8080/"
    },
    "executionInfo": {
     "elapsed": 198,
     "status": "ok",
     "timestamp": 1728525320925,
     "user": {
      "displayName": "Katie Mears",
      "userId": "01706533416920320829"
     },
     "user_tz": 420
    },
    "id": "7dc62c43-2acf-46d1-93e3-b26513e9873a",
    "outputId": "9e087703-4175-4227-d2c4-b037417458de"
   },
   "outputs": [
    {
     "name": "stdout",
     "output_type": "stream",
     "text": [
      "   MDRFOI ID                                Brand Name  \\\n",
      "0   20112651  HI-TORQUE BALANCE MIDDLEWEIGHT UNIVERSAL   \n",
      "1   20112634                          XIENCE SKYPOINT¿   \n",
      "2   20112157                         TRICLIP G4 SYSTEM   \n",
      "3   20112156                         TRICLIP G4 SYSTEM   \n",
      "4   20111290                       PERCLOSE¿ PROSTYLE¿   \n",
      "\n",
      "                  Model Number  \\\n",
      "0        Model Number 1009664J   \n",
      "1      Model Number 1804225-18   \n",
      "2  Catalog Number TCDS0302-XTW   \n",
      "3  Catalog Number TCDS0302-XTW   \n",
      "4        Model Number 12773-02   \n",
      "\n",
      "                                      Device Problem  \\\n",
      "0  Device Problems Difficult to Remove (1528); Ma...   \n",
      "1  Device Problems Material Rupture (1546); Diffi...   \n",
      "2        Device Problem Incomplete Coaptation (2507)   \n",
      "3  Device Problems Positioning Failure (1158); En...   \n",
      "4             Device Problem Failure to Cycle (1142)   \n",
      "\n",
      "                                     Patient Problem             Event Date  \\\n",
      "0  Patient Problem Device Embedded In Tissue or P...  Event Date 08/12/2024   \n",
      "1  Patient Problem No Clinical Signs, Symptoms or...  Event Date 08/08/2024   \n",
      "2  Patient Problem Tricuspid Valve Insufficiency/...  Event Date 08/14/2024   \n",
      "3  Patient Problem No Clinical Signs, Symptoms or...  Event Date 08/12/2024   \n",
      "4  Patient Problem No Clinical Signs, Symptoms or...  Event Date 08/09/2024   \n",
      "\n",
      "                Event Type                             Manufacturer Narrative  \\\n",
      "0       Event Type  Injury  The device was not returned for analysis.A rev...   \n",
      "1  Event Type  malfunction  The device was not returned for evaluation.Pro...   \n",
      "2  Event Type  malfunction  The device was not returned for analysis.A rev...   \n",
      "3       Event Type  Injury  Investigation is not yet complete.A follow-up ...   \n",
      "4       Event Type  Injury  It was reported that this was an arteriotomy c...   \n",
      "\n",
      "                                   Event Description Device Problems  \n",
      "0  It was reported the procedure was to treat a l...             NaN  \n",
      "1  It was reported that the procedure was to trea...             NaN  \n",
      "2  It was reported this was a triclip procedure t...             NaN  \n",
      "3  It is reported this was a triclip procedure to...             NaN  \n",
      "4  Manufacturer's investigation is still pending ...             NaN  \n"
     ]
    }
   ],
   "source": [
    "# Define GitHub URL\n",
    "url = 'https://raw.githubusercontent.com/mmoran90/ADS-509-Text-Mining/main/combined_df.csv'\n",
    "\n",
    "# Get CSV content from GitHub\n",
    "response = requests.get(url)\n",
    "if response.status_code == 200:\n",
    "    data = StringIO(response.text)\n",
    "    maude_df = pd.read_csv(data)\n",
    "    print(maude_df.head())\n",
    "else:\n",
    "    print(f\"Error fetching data: {response.status_code}\")"
   ]
  },
  {
   "cell_type": "code",
   "execution_count": 4,
   "id": "GonVUiU78Bap",
   "metadata": {
    "colab": {
     "base_uri": "https://localhost:8080/"
    },
    "executionInfo": {
     "elapsed": 6,
     "status": "ok",
     "timestamp": 1728525320925,
     "user": {
      "displayName": "Katie Mears",
      "userId": "01706533416920320829"
     },
     "user_tz": 420
    },
    "id": "GonVUiU78Bap",
    "outputId": "7f37e4fe-ffde-4598-885f-790fe9013142"
   },
   "outputs": [
    {
     "name": "stdout",
     "output_type": "stream",
     "text": [
      "Number of null values in 'Device Problem' column: 1003\n"
     ]
    }
   ],
   "source": [
    "# Count the number of null values in the 'CombinedDeviceProblem' column\n",
    "null_count = maude_df['Device Problem'].isnull().sum()\n",
    "\n",
    "# Print the result\n",
    "print(f\"Number of null values in 'Device Problem' column: {null_count}\")"
   ]
  },
  {
   "cell_type": "code",
   "execution_count": 5,
   "id": "5wWCfxcO8HO8",
   "metadata": {
    "colab": {
     "base_uri": "https://localhost:8080/"
    },
    "executionInfo": {
     "elapsed": 157,
     "status": "ok",
     "timestamp": 1728525321078,
     "user": {
      "displayName": "Katie Mears",
      "userId": "01706533416920320829"
     },
     "user_tz": 420
    },
    "id": "5wWCfxcO8HO8",
    "outputId": "f75b5c78-3801-4d3d-db72-79aad1a02114"
   },
   "outputs": [
    {
     "name": "stdout",
     "output_type": "stream",
     "text": [
      "Number of null values in 'Device Problems' column: 1415\n"
     ]
    }
   ],
   "source": [
    "# Count the number of null values in the 'CombinedDeviceProblem' column\n",
    "null_count = maude_df['Device Problems'].isnull().sum()\n",
    "\n",
    "# Print the result\n",
    "print(f\"Number of null values in 'Device Problems' column: {null_count}\")"
   ]
  },
  {
   "cell_type": "code",
   "execution_count": 6,
   "id": "8Uvpuyye65eN",
   "metadata": {
    "executionInfo": {
     "elapsed": 11,
     "status": "ok",
     "timestamp": 1728525321078,
     "user": {
      "displayName": "Katie Mears",
      "userId": "01706533416920320829"
     },
     "user_tz": 420
    },
    "id": "8Uvpuyye65eN"
   },
   "outputs": [],
   "source": [
    "# Combine 'DeviceProblem' and 'DeviceProblems' based on MDRFOI ID\n",
    "# Use 'DeviceProblem' if available, otherwise fall back to 'DeviceProblems'\n",
    "maude_df['Combined Device Problem'] = maude_df['Device Problem'].combine_first(maude_df['Device Problems'])"
   ]
  },
  {
   "cell_type": "code",
   "execution_count": 7,
   "id": "_y4NOjJh7pWX",
   "metadata": {
    "executionInfo": {
     "elapsed": 10,
     "status": "ok",
     "timestamp": 1728525321078,
     "user": {
      "displayName": "Katie Mears",
      "userId": "01706533416920320829"
     },
     "user_tz": 420
    },
    "id": "_y4NOjJh7pWX"
   },
   "outputs": [],
   "source": [
    "# Drop the original columns if no longer needed\n",
    "maude_df.drop(['Device Problem', 'Device Problems'], axis=1, inplace=True)"
   ]
  },
  {
   "cell_type": "code",
   "execution_count": 8,
   "id": "IzVZeExE7iWs",
   "metadata": {
    "colab": {
     "base_uri": "https://localhost:8080/",
     "height": 310
    },
    "executionInfo": {
     "elapsed": 10,
     "status": "ok",
     "timestamp": 1728525321078,
     "user": {
      "displayName": "Katie Mears",
      "userId": "01706533416920320829"
     },
     "user_tz": 420
    },
    "id": "IzVZeExE7iWs",
    "outputId": "f57ee646-7f5f-49b2-f302-a2fcae075aea"
   },
   "outputs": [
    {
     "data": {
      "text/html": [
       "<div>\n",
       "<style scoped>\n",
       "    .dataframe tbody tr th:only-of-type {\n",
       "        vertical-align: middle;\n",
       "    }\n",
       "\n",
       "    .dataframe tbody tr th {\n",
       "        vertical-align: top;\n",
       "    }\n",
       "\n",
       "    .dataframe thead th {\n",
       "        text-align: right;\n",
       "    }\n",
       "</style>\n",
       "<table border=\"1\" class=\"dataframe\">\n",
       "  <thead>\n",
       "    <tr style=\"text-align: right;\">\n",
       "      <th></th>\n",
       "      <th>MDRFOI ID</th>\n",
       "      <th>Brand Name</th>\n",
       "      <th>Model Number</th>\n",
       "      <th>Patient Problem</th>\n",
       "      <th>Event Date</th>\n",
       "      <th>Event Type</th>\n",
       "      <th>Manufacturer Narrative</th>\n",
       "      <th>Event Description</th>\n",
       "      <th>Combined Device Problem</th>\n",
       "    </tr>\n",
       "  </thead>\n",
       "  <tbody>\n",
       "    <tr>\n",
       "      <th>0</th>\n",
       "      <td>20112651</td>\n",
       "      <td>HI-TORQUE BALANCE MIDDLEWEIGHT UNIVERSAL</td>\n",
       "      <td>Model Number 1009664J</td>\n",
       "      <td>Patient Problem Device Embedded In Tissue or P...</td>\n",
       "      <td>Event Date 08/12/2024</td>\n",
       "      <td>Event Type  Injury</td>\n",
       "      <td>The device was not returned for analysis.A rev...</td>\n",
       "      <td>It was reported the procedure was to treat a l...</td>\n",
       "      <td>Device Problems Difficult to Remove (1528); Ma...</td>\n",
       "    </tr>\n",
       "    <tr>\n",
       "      <th>1</th>\n",
       "      <td>20112634</td>\n",
       "      <td>XIENCE SKYPOINT¿</td>\n",
       "      <td>Model Number 1804225-18</td>\n",
       "      <td>Patient Problem No Clinical Signs, Symptoms or...</td>\n",
       "      <td>Event Date 08/08/2024</td>\n",
       "      <td>Event Type  malfunction</td>\n",
       "      <td>The device was not returned for evaluation.Pro...</td>\n",
       "      <td>It was reported that the procedure was to trea...</td>\n",
       "      <td>Device Problems Material Rupture (1546); Diffi...</td>\n",
       "    </tr>\n",
       "    <tr>\n",
       "      <th>2</th>\n",
       "      <td>20112157</td>\n",
       "      <td>TRICLIP G4 SYSTEM</td>\n",
       "      <td>Catalog Number TCDS0302-XTW</td>\n",
       "      <td>Patient Problem Tricuspid Valve Insufficiency/...</td>\n",
       "      <td>Event Date 08/14/2024</td>\n",
       "      <td>Event Type  malfunction</td>\n",
       "      <td>The device was not returned for analysis.A rev...</td>\n",
       "      <td>It was reported this was a triclip procedure t...</td>\n",
       "      <td>Device Problem Incomplete Coaptation (2507)</td>\n",
       "    </tr>\n",
       "    <tr>\n",
       "      <th>3</th>\n",
       "      <td>20112156</td>\n",
       "      <td>TRICLIP G4 SYSTEM</td>\n",
       "      <td>Catalog Number TCDS0302-XTW</td>\n",
       "      <td>Patient Problem No Clinical Signs, Symptoms or...</td>\n",
       "      <td>Event Date 08/12/2024</td>\n",
       "      <td>Event Type  Injury</td>\n",
       "      <td>Investigation is not yet complete.A follow-up ...</td>\n",
       "      <td>It is reported this was a triclip procedure to...</td>\n",
       "      <td>Device Problems Positioning Failure (1158); En...</td>\n",
       "    </tr>\n",
       "    <tr>\n",
       "      <th>4</th>\n",
       "      <td>20111290</td>\n",
       "      <td>PERCLOSE¿ PROSTYLE¿</td>\n",
       "      <td>Model Number 12773-02</td>\n",
       "      <td>Patient Problem No Clinical Signs, Symptoms or...</td>\n",
       "      <td>Event Date 08/09/2024</td>\n",
       "      <td>Event Type  Injury</td>\n",
       "      <td>It was reported that this was an arteriotomy c...</td>\n",
       "      <td>Manufacturer's investigation is still pending ...</td>\n",
       "      <td>Device Problem Failure to Cycle (1142)</td>\n",
       "    </tr>\n",
       "  </tbody>\n",
       "</table>\n",
       "</div>"
      ],
      "text/plain": [
       "   MDRFOI ID                                Brand Name  \\\n",
       "0   20112651  HI-TORQUE BALANCE MIDDLEWEIGHT UNIVERSAL   \n",
       "1   20112634                          XIENCE SKYPOINT¿   \n",
       "2   20112157                         TRICLIP G4 SYSTEM   \n",
       "3   20112156                         TRICLIP G4 SYSTEM   \n",
       "4   20111290                       PERCLOSE¿ PROSTYLE¿   \n",
       "\n",
       "                  Model Number  \\\n",
       "0        Model Number 1009664J   \n",
       "1      Model Number 1804225-18   \n",
       "2  Catalog Number TCDS0302-XTW   \n",
       "3  Catalog Number TCDS0302-XTW   \n",
       "4        Model Number 12773-02   \n",
       "\n",
       "                                     Patient Problem             Event Date  \\\n",
       "0  Patient Problem Device Embedded In Tissue or P...  Event Date 08/12/2024   \n",
       "1  Patient Problem No Clinical Signs, Symptoms or...  Event Date 08/08/2024   \n",
       "2  Patient Problem Tricuspid Valve Insufficiency/...  Event Date 08/14/2024   \n",
       "3  Patient Problem No Clinical Signs, Symptoms or...  Event Date 08/12/2024   \n",
       "4  Patient Problem No Clinical Signs, Symptoms or...  Event Date 08/09/2024   \n",
       "\n",
       "                Event Type                             Manufacturer Narrative  \\\n",
       "0       Event Type  Injury  The device was not returned for analysis.A rev...   \n",
       "1  Event Type  malfunction  The device was not returned for evaluation.Pro...   \n",
       "2  Event Type  malfunction  The device was not returned for analysis.A rev...   \n",
       "3       Event Type  Injury  Investigation is not yet complete.A follow-up ...   \n",
       "4       Event Type  Injury  It was reported that this was an arteriotomy c...   \n",
       "\n",
       "                                   Event Description  \\\n",
       "0  It was reported the procedure was to treat a l...   \n",
       "1  It was reported that the procedure was to trea...   \n",
       "2  It was reported this was a triclip procedure t...   \n",
       "3  It is reported this was a triclip procedure to...   \n",
       "4  Manufacturer's investigation is still pending ...   \n",
       "\n",
       "                             Combined Device Problem  \n",
       "0  Device Problems Difficult to Remove (1528); Ma...  \n",
       "1  Device Problems Material Rupture (1546); Diffi...  \n",
       "2        Device Problem Incomplete Coaptation (2507)  \n",
       "3  Device Problems Positioning Failure (1158); En...  \n",
       "4             Device Problem Failure to Cycle (1142)  "
      ]
     },
     "execution_count": 8,
     "metadata": {},
     "output_type": "execute_result"
    }
   ],
   "source": [
    "maude_df.head()"
   ]
  },
  {
   "cell_type": "code",
   "execution_count": 9,
   "id": "5O9iqsii77YV",
   "metadata": {
    "colab": {
     "base_uri": "https://localhost:8080/"
    },
    "executionInfo": {
     "elapsed": 9,
     "status": "ok",
     "timestamp": 1728525321078,
     "user": {
      "displayName": "Katie Mears",
      "userId": "01706533416920320829"
     },
     "user_tz": 420
    },
    "id": "5O9iqsii77YV",
    "outputId": "b3ca13ef-bfc5-4cd6-d933-890529786bc8"
   },
   "outputs": [
    {
     "name": "stdout",
     "output_type": "stream",
     "text": [
      "Number of null values in 'CombinedDeviceProblem' column: 423\n"
     ]
    }
   ],
   "source": [
    "# Count the number of null values in the 'CombinedDeviceProblem' column\n",
    "null_count = maude_df['Combined Device Problem'].isnull().sum()\n",
    "\n",
    "# Print the result\n",
    "print(f\"Number of null values in 'CombinedDeviceProblem' column: {null_count}\")"
   ]
  },
  {
   "cell_type": "code",
   "execution_count": 10,
   "id": "S4EvET-aF5VR",
   "metadata": {
    "colab": {
     "base_uri": "https://localhost:8080/",
     "height": 366
    },
    "executionInfo": {
     "elapsed": 8,
     "status": "ok",
     "timestamp": 1728525321078,
     "user": {
      "displayName": "Katie Mears",
      "userId": "01706533416920320829"
     },
     "user_tz": 420
    },
    "id": "S4EvET-aF5VR",
    "outputId": "2610866f-3f6a-412d-ab22-cca5e013f0b1"
   },
   "outputs": [
    {
     "data": {
      "text/plain": [
       "MDRFOI ID                    0\n",
       "Brand Name                   0\n",
       "Model Number                23\n",
       "Patient Problem            101\n",
       "Event Date                   5\n",
       "Event Type                   0\n",
       "Manufacturer Narrative       0\n",
       "Event Description           37\n",
       "Combined Device Problem    423\n",
       "dtype: int64"
      ]
     },
     "execution_count": 10,
     "metadata": {},
     "output_type": "execute_result"
    }
   ],
   "source": [
    "# Null counts for each column\n",
    "null_counts = maude_df.isnull().sum()\n",
    "null_counts"
   ]
  },
  {
   "cell_type": "code",
   "execution_count": 11,
   "id": "Oc9nkzYLGP7w",
   "metadata": {
    "colab": {
     "base_uri": "https://localhost:8080/"
    },
    "executionInfo": {
     "elapsed": 7,
     "status": "ok",
     "timestamp": 1728525321078,
     "user": {
      "displayName": "Katie Mears",
      "userId": "01706533416920320829"
     },
     "user_tz": 420
    },
    "id": "Oc9nkzYLGP7w",
    "outputId": "bbc92398-24cb-44ce-cacd-c93c548bd2f3"
   },
   "outputs": [
    {
     "data": {
      "text/plain": [
       "(1995, 9)"
      ]
     },
     "execution_count": 11,
     "metadata": {},
     "output_type": "execute_result"
    }
   ],
   "source": [
    "# Shape before dropping columns\n",
    "df_shape = maude_df.shape\n",
    "df_shape"
   ]
  },
  {
   "cell_type": "code",
   "execution_count": 12,
   "id": "l_cS0Fw1Gua6",
   "metadata": {
    "colab": {
     "base_uri": "https://localhost:8080/"
    },
    "executionInfo": {
     "elapsed": 243,
     "status": "ok",
     "timestamp": 1728525321317,
     "user": {
      "displayName": "Katie Mears",
      "userId": "01706533416920320829"
     },
     "user_tz": 420
    },
    "id": "l_cS0Fw1Gua6",
    "outputId": "30c34810-9890-4900-a919-88d473db0eea"
   },
   "outputs": [
    {
     "name": "stdout",
     "output_type": "stream",
     "text": [
      "0    Difficult to Remove (1528); Material Separatio...\n",
      "1    Material Rupture (1546); Difficult to Advance ...\n",
      "2                         Incomplete Coaptation (2507)\n",
      "3    Positioning Failure (1158); Entrapment of Devi...\n",
      "4                              Failure to Cycle (1142)\n",
      "Name: Combined Device Problem, dtype: object\n"
     ]
    }
   ],
   "source": [
    "# Remove the words \"Device Problem\" and \"Device Problems\" from the 'CombinedDeviceProblem' column\n",
    "maude_df['Combined Device Problem'] = maude_df['Combined Device Problem'].str.replace('Device Problem', '', regex=False)\n",
    "maude_df['Combined Device Problem'] = maude_df['Combined Device Problem'].str.replace('Device Problems', '', regex=False)\n",
    "maude_df['Combined Device Problem'] = maude_df['Combined Device Problem'].str.strip()\n",
    "# Also remove any leading \"s \" that may have been introduced\n",
    "maude_df['Combined Device Problem'] = maude_df['Combined Device Problem'].str.lstrip('s ')\n",
    "\n",
    "# Display the updated column\n",
    "print(maude_df['Combined Device Problem'].head())"
   ]
  },
  {
   "cell_type": "code",
   "execution_count": 13,
   "id": "rblA-qI8HcnO",
   "metadata": {
    "executionInfo": {
     "elapsed": 2,
     "status": "ok",
     "timestamp": 1728525321317,
     "user": {
      "displayName": "Katie Mears",
      "userId": "01706533416920320829"
     },
     "user_tz": 420
    },
    "id": "rblA-qI8HcnO"
   },
   "outputs": [],
   "source": [
    "# Create a copy of maude_df\n",
    "maude_df_copy = maude_df.copy()"
   ]
  },
  {
   "cell_type": "code",
   "execution_count": 14,
   "id": "QCBneacgH35c",
   "metadata": {
    "colab": {
     "base_uri": "https://localhost:8080/"
    },
    "executionInfo": {
     "elapsed": 2,
     "status": "ok",
     "timestamp": 1728525321317,
     "user": {
      "displayName": "Katie Mears",
      "userId": "01706533416920320829"
     },
     "user_tz": 420
    },
    "id": "QCBneacgH35c",
    "outputId": "6b48f563-729c-4446-ec8c-cee3fb4f40b9"
   },
   "outputs": [
    {
     "name": "stdout",
     "output_type": "stream",
     "text": [
      "                             Combined Device Problem  \\\n",
      "0  Difficult to Remove (1528); Material Separatio...   \n",
      "1  Material Rupture (1546); Difficult to Advance ...   \n",
      "2                       Incomplete Coaptation (2507)   \n",
      "3  Positioning Failure (1158); Entrapment of Devi...   \n",
      "4                            Failure to Cycle (1142)   \n",
      "\n",
      "                                Device Problems List  \n",
      "0  [Difficult to Remove (1528),  Material Separat...  \n",
      "1  [Material Rupture (1546),  Difficult to Advanc...  \n",
      "2                     [Incomplete Coaptation (2507)]  \n",
      "3  [Positioning Failure (1158),  Entrapment of De...  \n",
      "4                          [Failure to Cycle (1142)]  \n"
     ]
    }
   ],
   "source": [
    "# Split the 'CombinedDeviceProblem' column by ';' into lists using the copy\n",
    "maude_df_copy['Device Problems List'] = maude_df_copy['Combined Device Problem'].str.split(';')\n",
    "\n",
    "# Display the updated DataFrame to see the separated lists\n",
    "print(maude_df_copy[['Combined Device Problem', 'Device Problems List']].head())"
   ]
  },
  {
   "cell_type": "code",
   "execution_count": 15,
   "id": "52Yf-aBzItlO",
   "metadata": {
    "colab": {
     "base_uri": "https://localhost:8080/"
    },
    "executionInfo": {
     "elapsed": 174,
     "status": "ok",
     "timestamp": 1728525383078,
     "user": {
      "displayName": "Katie Mears",
      "userId": "01706533416920320829"
     },
     "user_tz": 420
    },
    "id": "52Yf-aBzItlO",
    "outputId": "86f8ebae-cdbf-4464-e350-83518f4a1b81"
   },
   "outputs": [
    {
     "name": "stdout",
     "output_type": "stream",
     "text": [
      "Failure to Cycle (1142)                                          633\n",
      "Material Separation (1562)                                       158\n",
      "Leak/Splash (1354)                                               117\n",
      "Adverse Event Without Identified Device or Use Problem (2993)    111\n",
      "Difficult to Remove (1528)                                       105\n",
      "Difficult to Advance (2920)                                       94\n",
      "Material Rupture (1546)                                           83\n",
      "Improper or Incorrect Procedure or Method (2017)                  72\n",
      "Difficult to Open or Close (2921)                                 68\n",
      "Incomplete Coaptation (2507)                                      51\n",
      "Failure to Advance (2524)                                         47\n",
      "Break (1069)                                                      45\n",
      "Entrapment of Device (1212)                                       38\n",
      "Off-Label Use (1494)                                              36\n",
      "Unintended Movement (3026)                                        34\n",
      "Activation Failure (3270)                                         28\n",
      "Device Dislodged or Dislocated (2923)                             26\n",
      "Mechanical Jam (2983)                                             24\n",
      "Insufficient Information (3190)                                   22\n",
      "Stretched (1601)                                                  20\n",
      "Difficult or Delayed Positioning (1157)                           20\n",
      "Product Quality Problem (1506)                                    19\n",
      "Physical Resistance/Sticking (4012)                               19\n",
      "Failure to Fire (2610)                                            18\n",
      "Inflation Problem (1310)                                          17\n",
      "Failure to Deflate (4060)                                         17\n",
      "Device Damaged by Another Device (2915)                           17\n",
      "Deformation Due to Compressive Stress (2889)                      15\n",
      "Positioning Failure (1158)                                        15\n",
      "Obstruction of Flow (2423)                                        14\n",
      "Migration (4003)                                                  14\n",
      "Difficult or Delayed Activation (2577)                            14\n",
      "Patient Device Interaction Problem (4001)                         14\n",
      "Peeled/Delaminated (1454)                                         13\n",
      "Malposition of Device (2616)                                      12\n",
      "Material Deformation (2976)                                       12\n",
      "Difficult to Insert (1316)                                        10\n",
      "Premature Activation (1484)                                        9\n",
      "Loose or Intermittent Connection (1371)                            9\n",
      "Patient-Device Incompatibility (2682)                              7\n",
      "Material Split, Cut or Torn (4008)                                 6\n",
      "Noise, Audible (3273)                                              6\n",
      "Retraction Problem (1536)                                          6\n",
      "Material Too Soft/Flexible (4007)                                  6\n",
      "Deflation Problem (1149)                                           3\n",
      "Crack (1135)                                                       3\n",
      "Communication or Transmission Problem (2896)                       2\n",
      "Material Twisted/Bent (2981)                                       2\n",
      "Contamination /Decontamination Problem (2895)                      2\n",
      "Component Missing (2306)                                           2\n",
      "Unstable (1667)                                                    2\n",
      "Expulsion (2933)                                                   1\n",
      "Incorrect, Inadequate or Imprecise Result or Readings (1535)       1\n",
      "Tear, Rip or Hole in Device Packaging (2385)                       1\n",
      "Firing Problem (4011)                                              1\n",
      "Positioning Problem (3009)                                         1\n",
      "Material Too Rigid or Stiff (1544)                                 1\n",
      "Scratched Material (3020)                                          1\n",
      "Name: count, dtype: int64\n"
     ]
    }
   ],
   "source": [
    "# Remove leading/trailing whitespaces from each device problem in the list, handling NaN values\n",
    "maude_df_copy['Device Problems List'] = maude_df_copy['Device Problems List'].apply(\n",
    "    lambda x: [problem.strip() for problem in x] if isinstance(x, list) else x\n",
    ")\n",
    "\n",
    "# Flatten the list of all device problems into a single list, ignoring NaN values\n",
    "all_device_problems = maude_df_copy['Device Problems List'].dropna().sum()\n",
    "\n",
    "# Count the occurrences of each unique device problem\n",
    "device_problem_counts = pd.Series(all_device_problems).value_counts()\n",
    "\n",
    "# Display the counts\n",
    "print(device_problem_counts)"
   ]
  },
  {
   "cell_type": "code",
   "execution_count": 16,
   "id": "mPedHWxrM-kz",
   "metadata": {
    "colab": {
     "base_uri": "https://localhost:8080/",
     "height": 601
    },
    "executionInfo": {
     "elapsed": 5613,
     "status": "ok",
     "timestamp": 1728526450772,
     "user": {
      "displayName": "Katie Mears",
      "userId": "01706533416920320829"
     },
     "user_tz": 420
    },
    "id": "mPedHWxrM-kz",
    "outputId": "717327e9-cbb3-4b7c-985b-6eb17c2c6986"
   },
   "outputs": [
    {
     "data": {
      "image/png": "[encoded data removed]",
      "text/plain": [
       "<Figure size 1200x600 with 1 Axes>"
      ]
     },
     "metadata": {},
     "output_type": "display_data"
    }
   ],
   "source": [
    "import warnings\n",
    "warnings.filterwarnings(\"ignore\")\n",
    "\n",
    "# Set the style of seaborn for better aesthetics\n",
    "sns.set(style=\"whitegrid\")\n",
    "\n",
    "# Create a bar plot for device problem counts\n",
    "plt.figure(figsize=(12, 6))\n",
    "sns.barplot(x=device_problem_counts.index, y=device_problem_counts.values, palette='viridis')\n",
    "\n",
    "# Adding titles and labels\n",
    "plt.title('Counts of Device Problems', fontsize=16)\n",
    "plt.xlabel('Device Problems', fontsize=14)\n",
    "plt.ylabel('Count', fontsize=14)\n",
    "plt.xticks(rotation=45, ha='right')  # Rotate x-axis labels for better readability\n",
    "plt.tight_layout()  # Adjust layout to prevent clipping of tick-labels\n",
    "\n",
    "# Show the plot\n",
    "plt.show()"
   ]
  },
  {
   "cell_type": "code",
   "execution_count": 17,
   "id": "KfK4c1I8JV3R",
   "metadata": {
    "colab": {
     "base_uri": "https://localhost:8080/"
    },
    "executionInfo": {
     "elapsed": 171,
     "status": "ok",
     "timestamp": 1728525461747,
     "user": {
      "displayName": "Katie Mears",
      "userId": "01706533416920320829"
     },
     "user_tz": 420
    },
    "id": "KfK4c1I8JV3R",
    "outputId": "341da207-fcfc-4be1-a921-aee2c0b4863b"
   },
   "outputs": [
    {
     "name": "stdout",
     "output_type": "stream",
     "text": [
      "Total device problem count: 2144\n"
     ]
    }
   ],
   "source": [
    "# Get the total count of all device problems\n",
    "total_device_problem_count = device_problem_counts.sum()\n",
    "\n",
    "# Display the total count\n",
    "print(f\"Total device problem count: {total_device_problem_count}\")"
   ]
  },
  {
   "cell_type": "code",
   "execution_count": 18,
   "id": "PJkUI02SJH6e",
   "metadata": {
    "colab": {
     "base_uri": "https://localhost:8080/"
    },
    "executionInfo": {
     "elapsed": 156,
     "status": "ok",
     "timestamp": 1728525422274,
     "user": {
      "displayName": "Katie Mears",
      "userId": "01706533416920320829"
     },
     "user_tz": 420
    },
    "id": "PJkUI02SJH6e",
    "outputId": "f6a09608-f194-4af1-becc-1753ad8e7e40"
   },
   "outputs": [
    {
     "data": {
      "text/plain": [
       "(1995, 10)"
      ]
     },
     "execution_count": 18,
     "metadata": {},
     "output_type": "execute_result"
    }
   ],
   "source": [
    "# Shape before dropping columns\n",
    "df_shape_copy = maude_df_copy.shape\n",
    "df_shape_copy"
   ]
  },
  {
   "cell_type": "markdown",
   "id": "IvbSDU-XLNam",
   "metadata": {
    "id": "IvbSDU-XLNam"
   },
   "source": [
    "### Descriptive Statistics"
   ]
  },
  {
   "cell_type": "code",
   "execution_count": 23,
   "id": "h9C7awmJLRCv",
   "metadata": {
    "executionInfo": {
     "elapsed": 250,
     "status": "ok",
     "timestamp": 1728525977080,
     "user": {
      "displayName": "Katie Mears",
      "userId": "01706533416920320829"
     },
     "user_tz": 420
    },
    "id": "h9C7awmJLRCv"
   },
   "outputs": [
    {
     "data": {
      "text/html": [
       "<div>\n",
       "<style scoped>\n",
       "    .dataframe tbody tr th:only-of-type {\n",
       "        vertical-align: middle;\n",
       "    }\n",
       "\n",
       "    .dataframe tbody tr th {\n",
       "        vertical-align: top;\n",
       "    }\n",
       "\n",
       "    .dataframe thead th {\n",
       "        text-align: right;\n",
       "    }\n",
       "</style>\n",
       "<table border=\"1\" class=\"dataframe\">\n",
       "  <thead>\n",
       "    <tr style=\"text-align: right;\">\n",
       "      <th></th>\n",
       "      <th>Brand Name</th>\n",
       "      <th>Patient Problem</th>\n",
       "      <th>Event Type</th>\n",
       "      <th>Manufacturer Narrative</th>\n",
       "      <th>Event Description</th>\n",
       "      <th>Combined Device Problem</th>\n",
       "      <th>Device Problems List</th>\n",
       "    </tr>\n",
       "  </thead>\n",
       "  <tbody>\n",
       "    <tr>\n",
       "      <th>0</th>\n",
       "      <td>HI-TORQUE BALANCE MIDDLEWEIGHT UNIVERSAL</td>\n",
       "      <td>Patient Problem Device Embedded In Tissue or P...</td>\n",
       "      <td>Event Type  Injury</td>\n",
       "      <td>The device was not returned for analysis.A rev...</td>\n",
       "      <td>It was reported the procedure was to treat a l...</td>\n",
       "      <td>Difficult to Remove (1528); Material Separatio...</td>\n",
       "      <td>[Difficult to Remove (1528), Material Separati...</td>\n",
       "    </tr>\n",
       "    <tr>\n",
       "      <th>1</th>\n",
       "      <td>XIENCE SKYPOINT¿</td>\n",
       "      <td>Patient Problem No Clinical Signs, Symptoms or...</td>\n",
       "      <td>Event Type  malfunction</td>\n",
       "      <td>The device was not returned for evaluation.Pro...</td>\n",
       "      <td>It was reported that the procedure was to trea...</td>\n",
       "      <td>Material Rupture (1546); Difficult to Advance ...</td>\n",
       "      <td>[Material Rupture (1546), Difficult to Advance...</td>\n",
       "    </tr>\n",
       "    <tr>\n",
       "      <th>2</th>\n",
       "      <td>TRICLIP G4 SYSTEM</td>\n",
       "      <td>Patient Problem Tricuspid Valve Insufficiency/...</td>\n",
       "      <td>Event Type  malfunction</td>\n",
       "      <td>The device was not returned for analysis.A rev...</td>\n",
       "      <td>It was reported this was a triclip procedure t...</td>\n",
       "      <td>Incomplete Coaptation (2507)</td>\n",
       "      <td>[Incomplete Coaptation (2507)]</td>\n",
       "    </tr>\n",
       "    <tr>\n",
       "      <th>3</th>\n",
       "      <td>TRICLIP G4 SYSTEM</td>\n",
       "      <td>Patient Problem No Clinical Signs, Symptoms or...</td>\n",
       "      <td>Event Type  Injury</td>\n",
       "      <td>Investigation is not yet complete.A follow-up ...</td>\n",
       "      <td>It is reported this was a triclip procedure to...</td>\n",
       "      <td>Positioning Failure (1158); Entrapment of Devi...</td>\n",
       "      <td>[Positioning Failure (1158), Entrapment of Dev...</td>\n",
       "    </tr>\n",
       "    <tr>\n",
       "      <th>4</th>\n",
       "      <td>PERCLOSE¿ PROSTYLE¿</td>\n",
       "      <td>Patient Problem No Clinical Signs, Symptoms or...</td>\n",
       "      <td>Event Type  Injury</td>\n",
       "      <td>It was reported that this was an arteriotomy c...</td>\n",
       "      <td>Manufacturer's investigation is still pending ...</td>\n",
       "      <td>Failure to Cycle (1142)</td>\n",
       "      <td>[Failure to Cycle (1142)]</td>\n",
       "    </tr>\n",
       "  </tbody>\n",
       "</table>\n",
       "</div>"
      ],
      "text/plain": [
       "                                 Brand Name  \\\n",
       "0  HI-TORQUE BALANCE MIDDLEWEIGHT UNIVERSAL   \n",
       "1                          XIENCE SKYPOINT¿   \n",
       "2                         TRICLIP G4 SYSTEM   \n",
       "3                         TRICLIP G4 SYSTEM   \n",
       "4                       PERCLOSE¿ PROSTYLE¿   \n",
       "\n",
       "                                     Patient Problem               Event Type  \\\n",
       "0  Patient Problem Device Embedded In Tissue or P...       Event Type  Injury   \n",
       "1  Patient Problem No Clinical Signs, Symptoms or...  Event Type  malfunction   \n",
       "2  Patient Problem Tricuspid Valve Insufficiency/...  Event Type  malfunction   \n",
       "3  Patient Problem No Clinical Signs, Symptoms or...       Event Type  Injury   \n",
       "4  Patient Problem No Clinical Signs, Symptoms or...       Event Type  Injury   \n",
       "\n",
       "                              Manufacturer Narrative  \\\n",
       "0  The device was not returned for analysis.A rev...   \n",
       "1  The device was not returned for evaluation.Pro...   \n",
       "2  The device was not returned for analysis.A rev...   \n",
       "3  Investigation is not yet complete.A follow-up ...   \n",
       "4  It was reported that this was an arteriotomy c...   \n",
       "\n",
       "                                   Event Description  \\\n",
       "0  It was reported the procedure was to treat a l...   \n",
       "1  It was reported that the procedure was to trea...   \n",
       "2  It was reported this was a triclip procedure t...   \n",
       "3  It is reported this was a triclip procedure to...   \n",
       "4  Manufacturer's investigation is still pending ...   \n",
       "\n",
       "                             Combined Device Problem  \\\n",
       "0  Difficult to Remove (1528); Material Separatio...   \n",
       "1  Material Rupture (1546); Difficult to Advance ...   \n",
       "2                       Incomplete Coaptation (2507)   \n",
       "3  Positioning Failure (1158); Entrapment of Devi...   \n",
       "4                            Failure to Cycle (1142)   \n",
       "\n",
       "                                Device Problems List  \n",
       "0  [Difficult to Remove (1528), Material Separati...  \n",
       "1  [Material Rupture (1546), Difficult to Advance...  \n",
       "2                     [Incomplete Coaptation (2507)]  \n",
       "3  [Positioning Failure (1158), Entrapment of Dev...  \n",
       "4                          [Failure to Cycle (1142)]  "
      ]
     },
     "execution_count": 23,
     "metadata": {},
     "output_type": "execute_result"
    }
   ],
   "source": [
    "### Placeholder for Descriptive Statistics\n",
    "maude_df_copy.head()"
   ]
  },
  {
   "cell_type": "markdown",
   "id": "EKX2j7N29bm_",
   "metadata": {
    "id": "EKX2j7N29bm_"
   },
   "source": [
    "### Pre-Processing Grouped Data\n"
   ]
  },
  {
   "cell_type": "code",
   "execution_count": 24,
   "id": "eb21271d-3f66-4fea-a683-525117f59afb",
   "metadata": {
    "executionInfo": {
     "elapsed": 5,
     "status": "ok",
     "timestamp": 1728524662434,
     "user": {
      "displayName": "Katie Mears",
      "userId": "01706533416920320829"
     },
     "user_tz": 420
    },
    "id": "eb21271d-3f66-4fea-a683-525117f59afb"
   },
   "outputs": [],
   "source": [
    "# remove non-text columns that are irrelevant\n"
   ]
  },
  {
   "cell_type": "code",
   "execution_count": 25,
   "id": "Spq-31ZxAiwc",
   "metadata": {
    "colab": {
     "base_uri": "https://localhost:8080/"
    },
    "executionInfo": {
     "elapsed": 5,
     "status": "ok",
     "timestamp": 1728524662434,
     "user": {
      "displayName": "Katie Mears",
      "userId": "01706533416920320829"
     },
     "user_tz": 420
    },
    "id": "Spq-31ZxAiwc",
    "outputId": "e3a7476d-b3e0-4366-f0c7-c45664c5b40d"
   },
   "outputs": [
    {
     "data": {
      "text/plain": [
       "(1995, 7)"
      ]
     },
     "execution_count": 25,
     "metadata": {},
     "output_type": "execute_result"
    }
   ],
   "source": [
    "# Shape after dropping columns\n",
    "df_shape_copy = maude_df_copy.shape\n",
    "df_shape_copy"
   ]
  },
  {
   "cell_type": "code",
   "execution_count": 26,
   "id": "b71b51c1-daee-47c8-8810-74e1d4a56fbd",
   "metadata": {
    "executionInfo": {
     "elapsed": 1820,
     "status": "ok",
     "timestamp": 1728524664250,
     "user": {
      "displayName": "Katie Mears",
      "userId": "01706533416920320829"
     },
     "user_tz": 420
    },
    "id": "b71b51c1-daee-47c8-8810-74e1d4a56fbd"
   },
   "outputs": [],
   "source": [
    "# Combine relevant text columns\n",
    "maude_df_copy['text'] = maude_df_copy[['Brand Name', 'Combined Device Problem', 'Patient Problem', 'Manufacturer Narrative', 'Event Description']].fillna('').agg(' '.join, axis=1)\n",
    "\n",
    "# Pre-process text and tokenize using nltk\n",
    "def clean_and_tokenize_text(text):\n",
    "    text = re.sub(r'\\d+', '', text)  # Remove digits\n",
    "    text = re.sub(r'[^\\w\\s]', '', text)  # Remove punctuation\n",
    "    text = text.lower()  # Convert to lowercase\n",
    "    tokens = word_tokenize(text)  # Tokenize text using nltk\n",
    "    tokens = [word for word in tokens if word not in stop_words]  # Remove stopwords\n",
    "    return ' '.join(tokens)  # Join tokens back into a string\n",
    "\n",
    "maude_df_copy['clean_text'] = maude_df_copy['text'].apply(clean_and_tokenize_text)"
   ]
  },
  {
   "cell_type": "code",
   "execution_count": 27,
   "id": "60799cab-c333-43a8-ade8-e73ac4d252e9",
   "metadata": {
    "executionInfo": {
     "elapsed": 3,
     "status": "ok",
     "timestamp": 1728524664251,
     "user": {
      "displayName": "Katie Mears",
      "userId": "01706533416920320829"
     },
     "user_tz": 420
    },
    "id": "60799cab-c333-43a8-ade8-e73ac4d252e9"
   },
   "outputs": [],
   "source": [
    "# Target Variable ('Device Problem')\n",
    "maude_df_copy.dropna(subset=['Combined Device Problem'], inplace=True)  # Drop rows with missing target\n",
    "\n",
    "# Combine descriptive text and numbers into labels\n",
    "maude_df_copy['labels'] = maude_df_copy['Combined Device Problem'].apply(lambda x: [re.sub(r'Combined Device Problems? |Combined Device Problem |\\(|\\)', '', label).strip() for label in x.split(';')])\n",
    "\n",
    "# Binarize labels (i.e., convert data into binary matrix for multi-label classification)\n",
    "mlb = MultiLabelBinarizer()\n",
    "y = mlb.fit_transform(maude_df_copy['labels'])\n",
    "\n",
    "#The fit_transform() converts these lists into a binary matrix, where each unique label becomes a column, and each row has a value of 1 or 0\n",
    "# indicating whether that label applies to that instance."
   ]
  },
  {
   "cell_type": "markdown",
   "id": "666516b0-335d-4927-b84b-5ee01f0fa32e",
   "metadata": {
    "executionInfo": {
     "elapsed": 3,
     "status": "ok",
     "timestamp": 1728524664251,
     "user": {
      "displayName": "Katie Mears",
      "userId": "01706533416920320829"
     },
     "user_tz": 420
    },
    "id": "9e98fbb1-3145-4db6-a933-f0e83ea3c375"
   },
   "source": [
    "## Split Data ##"
   ]
  },
  {
   "cell_type": "code",
   "execution_count": 28,
   "id": "e098094d-ba79-4c4a-8fee-9afdab31a28f",
   "metadata": {
    "executionInfo": {
     "elapsed": 3,
     "status": "ok",
     "timestamp": 1728524664251,
     "user": {
      "displayName": "Katie Mears",
      "userId": "01706533416920320829"
     },
     "user_tz": 420
    },
    "id": "e098094d-ba79-4c4a-8fee-9afdab31a28f"
   },
   "outputs": [],
   "source": [
    "# Train/test split\n",
    "X_train, X_test, y_train, y_test = train_test_split(maude_df_copy['clean_text'], y, test_size=0.3, random_state=42)"
   ]
  },
  {
   "cell_type": "markdown",
   "id": "948912a6-2c7f-4aab-bda3-8bf98633e360",
   "metadata": {
    "id": "948912a6-2c7f-4aab-bda3-8bf98633e360"
   },
   "source": [
    "## Build SMV Classification Model ##"
   ]
  },
  {
   "cell_type": "code",
   "execution_count": 29,
   "id": "4fd3e822-c9e5-47b1-87d7-bffb3b991e24",
   "metadata": {
    "executionInfo": {
     "elapsed": 225,
     "status": "ok",
     "timestamp": 1728524664474,
     "user": {
      "displayName": "Katie Mears",
      "userId": "01706533416920320829"
     },
     "user_tz": 420
    },
    "id": "4fd3e822-c9e5-47b1-87d7-bffb3b991e24"
   },
   "outputs": [],
   "source": [
    "# Extract featurees using TF-IDF\n",
    "tfidf = TfidfVectorizer(max_features=5000)\n",
    "X_train_tfidf = tfidf.fit_transform(X_train)\n",
    "X_test_tfidf = tfidf.transform(X_test)"
   ]
  },
  {
   "cell_type": "code",
   "execution_count": 30,
   "id": "4fe5a486-d174-47a5-af22-552a1baade34",
   "metadata": {
    "colab": {
     "base_uri": "https://localhost:8080/",
     "height": 354
    },
    "executionInfo": {
     "elapsed": 8350,
     "status": "ok",
     "timestamp": 1728524672822,
     "user": {
      "displayName": "Katie Mears",
      "userId": "01706533416920320829"
     },
     "user_tz": 420
    },
    "id": "4fe5a486-d174-47a5-af22-552a1baade34",
    "outputId": "a64d1fe5-6a34-426f-91e4-e72a73b52bea"
   },
   "outputs": [
    {
     "data": {
      "text/html": [
       "<style>#sk-container-id-1 {\n",
       "  /* Definition of color scheme common for light and dark mode */\n",
       "  --sklearn-color-text: black;\n",
       "  --sklearn-color-line: gray;\n",
       "  /* Definition of color scheme for unfitted estimators */\n",
       "  --sklearn-color-unfitted-level-0: #fff5e6;\n",
       "  --sklearn-color-unfitted-level-1: #f6e4d2;\n",
       "  --sklearn-color-unfitted-level-2: #ffe0b3;\n",
       "  --sklearn-color-unfitted-level-3: chocolate;\n",
       "  /* Definition of color scheme for fitted estimators */\n",
       "  --sklearn-color-fitted-level-0: #f0f8ff;\n",
       "  --sklearn-color-fitted-level-1: #d4ebff;\n",
       "  --sklearn-color-fitted-level-2: #b3dbfd;\n",
       "  --sklearn-color-fitted-level-3: cornflowerblue;\n",
       "\n",
       "  /* Specific color for light theme */\n",
       "  --sklearn-color-text-on-default-background: var(--sg-text-color, var(--theme-code-foreground, var(--jp-content-font-color1, black)));\n",
       "  --sklearn-color-background: var(--sg-background-color, var(--theme-background, var(--jp-layout-color0, white)));\n",
       "  --sklearn-color-border-box: var(--sg-text-color, var(--theme-code-foreground, var(--jp-content-font-color1, black)));\n",
       "  --sklearn-color-icon: #696969;\n",
       "\n",
       "  @media (prefers-color-scheme: dark) {\n",
       "    /* Redefinition of color scheme for dark theme */\n",
       "    --sklearn-color-text-on-default-background: var(--sg-text-color, var(--theme-code-foreground, var(--jp-content-font-color1, white)));\n",
       "    --sklearn-color-background: var(--sg-background-color, var(--theme-background, var(--jp-layout-color0, #111)));\n",
       "    --sklearn-color-border-box: var(--sg-text-color, var(--theme-code-foreground, var(--jp-content-font-color1, white)));\n",
       "    --sklearn-color-icon: #878787;\n",
       "  }\n",
       "}\n",
       "\n",
       "#sk-container-id-1 {\n",
       "  color: var(--sklearn-color-text);\n",
       "}\n",
       "\n",
       "#sk-container-id-1 pre {\n",
       "  padding: 0;\n",
       "}\n",
       "\n",
       "#sk-container-id-1 input.sk-hidden--visually {\n",
       "  border: 0;\n",
       "  clip: rect(1px 1px 1px 1px);\n",
       "  clip: rect(1px, 1px, 1px, 1px);\n",
       "  height: 1px;\n",
       "  margin: -1px;\n",
       "  overflow: hidden;\n",
       "  padding: 0;\n",
       "  position: absolute;\n",
       "  width: 1px;\n",
       "}\n",
       "\n",
       "#sk-container-id-1 div.sk-dashed-wrapped {\n",
       "  border: 1px dashed var(--sklearn-color-line);\n",
       "  margin: 0 0.4em 0.5em 0.4em;\n",
       "  box-sizing: border-box;\n",
       "  padding-bottom: 0.4em;\n",
       "  background-color: var(--sklearn-color-background);\n",
       "}\n",
       "\n",
       "#sk-container-id-1 div.sk-container {\n",
       "  /* jupyter's `normalize.less` sets `[hidden] { display: none; }`\n",
       "     but bootstrap.min.css set `[hidden] { display: none !important; }`\n",
       "     so we also need the `!important` here to be able to override the\n",
       "     default hidden behavior on the sphinx rendered scikit-learn.org.\n",
       "     See: https://github.com/scikit-learn/scikit-learn/issues/21755 */\n",
       "  display: inline-block !important;\n",
       "  position: relative;\n",
       "}\n",
       "\n",
       "#sk-container-id-1 div.sk-text-repr-fallback {\n",
       "  display: none;\n",
       "}\n",
       "\n",
       "div.sk-parallel-item,\n",
       "div.sk-serial,\n",
       "div.sk-item {\n",
       "  /* draw centered vertical line to link estimators */\n",
       "  background-image: linear-gradient(var(--sklearn-color-text-on-default-background), var(--sklearn-color-text-on-default-background));\n",
       "  background-size: 2px 100%;\n",
       "  background-repeat: no-repeat;\n",
       "  background-position: center center;\n",
       "}\n",
       "\n",
       "/* Parallel-specific style estimator block */\n",
       "\n",
       "#sk-container-id-1 div.sk-parallel-item::after {\n",
       "  content: \"\";\n",
       "  width: 100%;\n",
       "  border-bottom: 2px solid var(--sklearn-color-text-on-default-background);\n",
       "  flex-grow: 1;\n",
       "}\n",
       "\n",
       "#sk-container-id-1 div.sk-parallel {\n",
       "  display: flex;\n",
       "  align-items: stretch;\n",
       "  justify-content: center;\n",
       "  background-color: var(--sklearn-color-background);\n",
       "  position: relative;\n",
       "}\n",
       "\n",
       "#sk-container-id-1 div.sk-parallel-item {\n",
       "  display: flex;\n",
       "  flex-direction: column;\n",
       "}\n",
       "\n",
       "#sk-container-id-1 div.sk-parallel-item:first-child::after {\n",
       "  align-self: flex-end;\n",
       "  width: 50%;\n",
       "}\n",
       "\n",
       "#sk-container-id-1 div.sk-parallel-item:last-child::after {\n",
       "  align-self: flex-start;\n",
       "  width: 50%;\n",
       "}\n",
       "\n",
       "#sk-container-id-1 div.sk-parallel-item:only-child::after {\n",
       "  width: 0;\n",
       "}\n",
       "\n",
       "/* Serial-specific style estimator block */\n",
       "\n",
       "#sk-container-id-1 div.sk-serial {\n",
       "  display: flex;\n",
       "  flex-direction: column;\n",
       "  align-items: center;\n",
       "  background-color: var(--sklearn-color-background);\n",
       "  padding-right: 1em;\n",
       "  padding-left: 1em;\n",
       "}\n",
       "\n",
       "\n",
       "/* Toggleable style: style used for estimator/Pipeline/ColumnTransformer box that is\n",
       "clickable and can be expanded/collapsed.\n",
       "- Pipeline and ColumnTransformer use this feature and define the default style\n",
       "- Estimators will overwrite some part of the style using the `sk-estimator` class\n",
       "*/\n",
       "\n",
       "/* Pipeline and ColumnTransformer style (default) */\n",
       "\n",
       "#sk-container-id-1 div.sk-toggleable {\n",
       "  /* Default theme specific background. It is overwritten whether we have a\n",
       "  specific estimator or a Pipeline/ColumnTransformer */\n",
       "  background-color: var(--sklearn-color-background);\n",
       "}\n",
       "\n",
       "/* Toggleable label */\n",
       "#sk-container-id-1 label.sk-toggleable__label {\n",
       "  cursor: pointer;\n",
       "  display: block;\n",
       "  width: 100%;\n",
       "  margin-bottom: 0;\n",
       "  padding: 0.5em;\n",
       "  box-sizing: border-box;\n",
       "  text-align: center;\n",
       "}\n",
       "\n",
       "#sk-container-id-1 label.sk-toggleable__label-arrow:before {\n",
       "  /* Arrow on the left of the label */\n",
       "  content: \"▸\";\n",
       "  float: left;\n",
       "  margin-right: 0.25em;\n",
       "  color: var(--sklearn-color-icon);\n",
       "}\n",
       "\n",
       "#sk-container-id-1 label.sk-toggleable__label-arrow:hover:before {\n",
       "  color: var(--sklearn-color-text);\n",
       "}\n",
       "\n",
       "/* Toggleable content - dropdown */\n",
       "\n",
       "#sk-container-id-1 div.sk-toggleable__content {\n",
       "  max-height: 0;\n",
       "  max-width: 0;\n",
       "  overflow: hidden;\n",
       "  text-align: left;\n",
       "  /* unfitted */\n",
       "  background-color: var(--sklearn-color-unfitted-level-0);\n",
       "}\n",
       "\n",
       "#sk-container-id-1 div.sk-toggleable__content.fitted {\n",
       "  /* fitted */\n",
       "  background-color: var(--sklearn-color-fitted-level-0);\n",
       "}\n",
       "\n",
       "#sk-container-id-1 div.sk-toggleable__content pre {\n",
       "  margin: 0.2em;\n",
       "  border-radius: 0.25em;\n",
       "  color: var(--sklearn-color-text);\n",
       "  /* unfitted */\n",
       "  background-color: var(--sklearn-color-unfitted-level-0);\n",
       "}\n",
       "\n",
       "#sk-container-id-1 div.sk-toggleable__content.fitted pre {\n",
       "  /* unfitted */\n",
       "  background-color: var(--sklearn-color-fitted-level-0);\n",
       "}\n",
       "\n",
       "#sk-container-id-1 input.sk-toggleable__control:checked~div.sk-toggleable__content {\n",
       "  /* Expand drop-down */\n",
       "  max-height: 200px;\n",
       "  max-width: 100%;\n",
       "  overflow: auto;\n",
       "}\n",
       "\n",
       "#sk-container-id-1 input.sk-toggleable__control:checked~label.sk-toggleable__label-arrow:before {\n",
       "  content: \"▾\";\n",
       "}\n",
       "\n",
       "/* Pipeline/ColumnTransformer-specific style */\n",
       "\n",
       "#sk-container-id-1 div.sk-label input.sk-toggleable__control:checked~label.sk-toggleable__label {\n",
       "  color: var(--sklearn-color-text);\n",
       "  background-color: var(--sklearn-color-unfitted-level-2);\n",
       "}\n",
       "\n",
       "#sk-container-id-1 div.sk-label.fitted input.sk-toggleable__control:checked~label.sk-toggleable__label {\n",
       "  background-color: var(--sklearn-color-fitted-level-2);\n",
       "}\n",
       "\n",
       "/* Estimator-specific style */\n",
       "\n",
       "/* Colorize estimator box */\n",
       "#sk-container-id-1 div.sk-estimator input.sk-toggleable__control:checked~label.sk-toggleable__label {\n",
       "  /* unfitted */\n",
       "  background-color: var(--sklearn-color-unfitted-level-2);\n",
       "}\n",
       "\n",
       "#sk-container-id-1 div.sk-estimator.fitted input.sk-toggleable__control:checked~label.sk-toggleable__label {\n",
       "  /* fitted */\n",
       "  background-color: var(--sklearn-color-fitted-level-2);\n",
       "}\n",
       "\n",
       "#sk-container-id-1 div.sk-label label.sk-toggleable__label,\n",
       "#sk-container-id-1 div.sk-label label {\n",
       "  /* The background is the default theme color */\n",
       "  color: var(--sklearn-color-text-on-default-background);\n",
       "}\n",
       "\n",
       "/* On hover, darken the color of the background */\n",
       "#sk-container-id-1 div.sk-label:hover label.sk-toggleable__label {\n",
       "  color: var(--sklearn-color-text);\n",
       "  background-color: var(--sklearn-color-unfitted-level-2);\n",
       "}\n",
       "\n",
       "/* Label box, darken color on hover, fitted */\n",
       "#sk-container-id-1 div.sk-label.fitted:hover label.sk-toggleable__label.fitted {\n",
       "  color: var(--sklearn-color-text);\n",
       "  background-color: var(--sklearn-color-fitted-level-2);\n",
       "}\n",
       "\n",
       "/* Estimator label */\n",
       "\n",
       "#sk-container-id-1 div.sk-label label {\n",
       "  font-family: monospace;\n",
       "  font-weight: bold;\n",
       "  display: inline-block;\n",
       "  line-height: 1.2em;\n",
       "}\n",
       "\n",
       "#sk-container-id-1 div.sk-label-container {\n",
       "  text-align: center;\n",
       "}\n",
       "\n",
       "/* Estimator-specific */\n",
       "#sk-container-id-1 div.sk-estimator {\n",
       "  font-family: monospace;\n",
       "  border: 1px dotted var(--sklearn-color-border-box);\n",
       "  border-radius: 0.25em;\n",
       "  box-sizing: border-box;\n",
       "  margin-bottom: 0.5em;\n",
       "  /* unfitted */\n",
       "  background-color: var(--sklearn-color-unfitted-level-0);\n",
       "}\n",
       "\n",
       "#sk-container-id-1 div.sk-estimator.fitted {\n",
       "  /* fitted */\n",
       "  background-color: var(--sklearn-color-fitted-level-0);\n",
       "}\n",
       "\n",
       "/* on hover */\n",
       "#sk-container-id-1 div.sk-estimator:hover {\n",
       "  /* unfitted */\n",
       "  background-color: var(--sklearn-color-unfitted-level-2);\n",
       "}\n",
       "\n",
       "#sk-container-id-1 div.sk-estimator.fitted:hover {\n",
       "  /* fitted */\n",
       "  background-color: var(--sklearn-color-fitted-level-2);\n",
       "}\n",
       "\n",
       "/* Specification for estimator info (e.g. \"i\" and \"?\") */\n",
       "\n",
       "/* Common style for \"i\" and \"?\" */\n",
       "\n",
       ".sk-estimator-doc-link,\n",
       "a:link.sk-estimator-doc-link,\n",
       "a:visited.sk-estimator-doc-link {\n",
       "  float: right;\n",
       "  font-size: smaller;\n",
       "  line-height: 1em;\n",
       "  font-family: monospace;\n",
       "  background-color: var(--sklearn-color-background);\n",
       "  border-radius: 1em;\n",
       "  height: 1em;\n",
       "  width: 1em;\n",
       "  text-decoration: none !important;\n",
       "  margin-left: 1ex;\n",
       "  /* unfitted */\n",
       "  border: var(--sklearn-color-unfitted-level-1) 1pt solid;\n",
       "  color: var(--sklearn-color-unfitted-level-1);\n",
       "}\n",
       "\n",
       ".sk-estimator-doc-link.fitted,\n",
       "a:link.sk-estimator-doc-link.fitted,\n",
       "a:visited.sk-estimator-doc-link.fitted {\n",
       "  /* fitted */\n",
       "  border: var(--sklearn-color-fitted-level-1) 1pt solid;\n",
       "  color: var(--sklearn-color-fitted-level-1);\n",
       "}\n",
       "\n",
       "/* On hover */\n",
       "div.sk-estimator:hover .sk-estimator-doc-link:hover,\n",
       ".sk-estimator-doc-link:hover,\n",
       "div.sk-label-container:hover .sk-estimator-doc-link:hover,\n",
       ".sk-estimator-doc-link:hover {\n",
       "  /* unfitted */\n",
       "  background-color: var(--sklearn-color-unfitted-level-3);\n",
       "  color: var(--sklearn-color-background);\n",
       "  text-decoration: none;\n",
       "}\n",
       "\n",
       "div.sk-estimator.fitted:hover .sk-estimator-doc-link.fitted:hover,\n",
       ".sk-estimator-doc-link.fitted:hover,\n",
       "div.sk-label-container:hover .sk-estimator-doc-link.fitted:hover,\n",
       ".sk-estimator-doc-link.fitted:hover {\n",
       "  /* fitted */\n",
       "  background-color: var(--sklearn-color-fitted-level-3);\n",
       "  color: var(--sklearn-color-background);\n",
       "  text-decoration: none;\n",
       "}\n",
       "\n",
       "/* Span, style for the box shown on hovering the info icon */\n",
       ".sk-estimator-doc-link span {\n",
       "  display: none;\n",
       "  z-index: 9999;\n",
       "  position: relative;\n",
       "  font-weight: normal;\n",
       "  right: .2ex;\n",
       "  padding: .5ex;\n",
       "  margin: .5ex;\n",
       "  width: min-content;\n",
       "  min-width: 20ex;\n",
       "  max-width: 50ex;\n",
       "  color: var(--sklearn-color-text);\n",
       "  box-shadow: 2pt 2pt 4pt #999;\n",
       "  /* unfitted */\n",
       "  background: var(--sklearn-color-unfitted-level-0);\n",
       "  border: .5pt solid var(--sklearn-color-unfitted-level-3);\n",
       "}\n",
       "\n",
       ".sk-estimator-doc-link.fitted span {\n",
       "  /* fitted */\n",
       "  background: var(--sklearn-color-fitted-level-0);\n",
       "  border: var(--sklearn-color-fitted-level-3);\n",
       "}\n",
       "\n",
       ".sk-estimator-doc-link:hover span {\n",
       "  display: block;\n",
       "}\n",
       "\n",
       "/* \"?\"-specific style due to the `<a>` HTML tag */\n",
       "\n",
       "#sk-container-id-1 a.estimator_doc_link {\n",
       "  float: right;\n",
       "  font-size: 1rem;\n",
       "  line-height: 1em;\n",
       "  font-family: monospace;\n",
       "  background-color: var(--sklearn-color-background);\n",
       "  border-radius: 1rem;\n",
       "  height: 1rem;\n",
       "  width: 1rem;\n",
       "  text-decoration: none;\n",
       "  /* unfitted */\n",
       "  color: var(--sklearn-color-unfitted-level-1);\n",
       "  border: var(--sklearn-color-unfitted-level-1) 1pt solid;\n",
       "}\n",
       "\n",
       "#sk-container-id-1 a.estimator_doc_link.fitted {\n",
       "  /* fitted */\n",
       "  border: var(--sklearn-color-fitted-level-1) 1pt solid;\n",
       "  color: var(--sklearn-color-fitted-level-1);\n",
       "}\n",
       "\n",
       "/* On hover */\n",
       "#sk-container-id-1 a.estimator_doc_link:hover {\n",
       "  /* unfitted */\n",
       "  background-color: var(--sklearn-color-unfitted-level-3);\n",
       "  color: var(--sklearn-color-background);\n",
       "  text-decoration: none;\n",
       "}\n",
       "\n",
       "#sk-container-id-1 a.estimator_doc_link.fitted:hover {\n",
       "  /* fitted */\n",
       "  background-color: var(--sklearn-color-fitted-level-3);\n",
       "}\n",
       "</style><div id=\"sk-container-id-1\" class=\"sk-top-container\"><div class=\"sk-text-repr-fallback\"><pre>OneVsRestClassifier(estimator=SVC(kernel=&#x27;linear&#x27;, random_state=42))</pre><b>In a Jupyter environment, please rerun this cell to show the HTML representation or trust the notebook. <br />On GitHub, the HTML representation is unable to render, please try loading this page with nbviewer.org.</b></div><div class=\"sk-container\" hidden><div class=\"sk-item sk-dashed-wrapped\"><div class=\"sk-label-container\"><div class=\"sk-label fitted sk-toggleable\"><input class=\"sk-toggleable__control sk-hidden--visually\" id=\"sk-estimator-id-1\" type=\"checkbox\" ><label for=\"sk-estimator-id-1\" class=\"sk-toggleable__label fitted sk-toggleable__label-arrow fitted\">&nbsp;&nbsp;OneVsRestClassifier<a class=\"sk-estimator-doc-link fitted\" rel=\"noreferrer\" target=\"_blank\" href=\"https://scikit-learn.org/1.5/modules/generated/sklearn.multiclass.OneVsRestClassifier.html\">?<span>Documentation for OneVsRestClassifier</span></a><span class=\"sk-estimator-doc-link fitted\">i<span>Fitted</span></span></label><div class=\"sk-toggleable__content fitted\"><pre>OneVsRestClassifier(estimator=SVC(kernel=&#x27;linear&#x27;, random_state=42))</pre></div> </div></div><div class=\"sk-parallel\"><div class=\"sk-parallel-item\"><div class=\"sk-item\"><div class=\"sk-label-container\"><div class=\"sk-label fitted sk-toggleable\"><input class=\"sk-toggleable__control sk-hidden--visually\" id=\"sk-estimator-id-2\" type=\"checkbox\" ><label for=\"sk-estimator-id-2\" class=\"sk-toggleable__label fitted sk-toggleable__label-arrow fitted\">estimator: SVC</label><div class=\"sk-toggleable__content fitted\"><pre>SVC(kernel=&#x27;linear&#x27;, random_state=42)</pre></div> </div></div><div class=\"sk-serial\"><div class=\"sk-item\"><div class=\"sk-estimator fitted sk-toggleable\"><input class=\"sk-toggleable__control sk-hidden--visually\" id=\"sk-estimator-id-3\" type=\"checkbox\" ><label for=\"sk-estimator-id-3\" class=\"sk-toggleable__label fitted sk-toggleable__label-arrow fitted\">&nbsp;SVC<a class=\"sk-estimator-doc-link fitted\" rel=\"noreferrer\" target=\"_blank\" href=\"https://scikit-learn.org/1.5/modules/generated/sklearn.svm.SVC.html\">?<span>Documentation for SVC</span></a></label><div class=\"sk-toggleable__content fitted\"><pre>SVC(kernel=&#x27;linear&#x27;, random_state=42)</pre></div> </div></div></div></div></div></div></div></div></div>"
      ],
      "text/plain": [
       "OneVsRestClassifier(estimator=SVC(kernel='linear', random_state=42))"
      ]
     },
     "execution_count": 30,
     "metadata": {},
     "output_type": "execute_result"
    }
   ],
   "source": [
    "# Build SVM model (with OneVsRestClassifier for multi-label classification)\n",
    "svm_model = OneVsRestClassifier(SVC(kernel='linear', random_state=42))\n",
    "svm_model.fit(X_train_tfidf, y_train)"
   ]
  },
  {
   "cell_type": "code",
   "execution_count": 31,
   "id": "2a4e3280-5eb8-422f-83bf-f03738191c39",
   "metadata": {
    "colab": {
     "base_uri": "https://localhost:8080/"
    },
    "executionInfo": {
     "elapsed": 3227,
     "status": "ok",
     "timestamp": 1728524676041,
     "user": {
      "displayName": "Katie Mears",
      "userId": "01706533416920320829"
     },
     "user_tz": 420
    },
    "id": "2a4e3280-5eb8-422f-83bf-f03738191c39",
    "outputId": "f660bab0-ecd9-438f-bbe3-642c52cdeccc"
   },
   "outputs": [
    {
     "name": "stdout",
     "output_type": "stream",
     "text": [
      "Accuracy: 0.739406779661017\n",
      "\n",
      "Classification Report:\n",
      "                                                              precision    recall  f1-score   support\n",
      "\n",
      "                                    Activation Failure 3270       1.00      0.44      0.62         9\n",
      "Adverse Event Without Identified Device or Use Problem 2993       0.96      0.84      0.90        32\n",
      "                                                 Break 1069       1.00      0.36      0.53        14\n",
      "                 Communication or Transmission Problem 2896       0.00      0.00      0.00         1\n",
      "                                     Component Missing 2306       0.00      0.00      0.00         1\n",
      "                Contamination /Decontamination Problem 2895       0.00      0.00      0.00         1\n",
      "                                                 Crack 1135       0.00      0.00      0.00         1\n",
      "                                     Deflation Problem 1149       0.00      0.00      0.00         2\n",
      "                 Deformation Due to Compressive Stress 2889       1.00      0.25      0.40         4\n",
      "                      Device Damaged by Another Device 2915       0.00      0.00      0.00         5\n",
      "                        Device Dislodged or Dislocated 2923       1.00      0.67      0.80         9\n",
      "                       Difficult or Delayed Activation 2577       0.00      0.00      0.00         5\n",
      "                      Difficult or Delayed Positioning 1157       0.00      0.00      0.00         8\n",
      "                                  Difficult to Advance 2920       0.88      0.85      0.86        26\n",
      "                                   Difficult to Insert 1316       0.00      0.00      0.00         3\n",
      "                            Difficult to Open or Close 2921       0.82      0.82      0.82        11\n",
      "                                   Difficult to Remove 1528       1.00      0.43      0.60        35\n",
      "                                  Entrapment of Device 1212       0.67      0.20      0.31        10\n",
      "                                             Expulsion 2933       0.00      0.00      0.00         0\n",
      "                                    Failure to Advance 2524       1.00      0.22      0.36        18\n",
      "                                      Failure to Cycle 1142       0.99      0.98      0.99       198\n",
      "                                    Failure to Deflate 4060       0.00      0.00      0.00         4\n",
      "                                       Failure to Fire 2610       1.00      0.71      0.83         7\n",
      "                                        Firing Problem 4011       0.00      0.00      0.00         0\n",
      "             Improper or Incorrect Procedure or Method 2017       1.00      0.77      0.87        22\n",
      "                                 Incomplete Coaptation 2507       0.86      0.86      0.86        14\n",
      " Incorrect, Inadequate or Imprecise Result or Readings 1535       0.00      0.00      0.00         0\n",
      "                                     Inflation Problem 1310       0.00      0.00      0.00         3\n",
      "                              Insufficient Information 3190       1.00      0.80      0.89         5\n",
      "                                           Leak/Splash 1354       0.90      0.90      0.90        29\n",
      "                      Loose or Intermittent Connection 1371       1.00      1.00      1.00         1\n",
      "                                 Malposition of Device 2616       0.00      0.00      0.00         6\n",
      "                                  Material Deformation 2976       0.00      0.00      0.00         6\n",
      "                                      Material Rupture 1546       1.00      0.91      0.95        33\n",
      "                                   Material Separation 1562       1.00      0.93      0.97        46\n",
      "                           Material Split, Cut or Torn 4008       0.00      0.00      0.00         2\n",
      "                           Material Too Rigid or Stiff 1544       0.00      0.00      0.00         0\n",
      "                            Material Too Soft/Flexible 4007       0.00      0.00      0.00         2\n",
      "                                 Material Twisted/Bent 2981       0.00      0.00      0.00         0\n",
      "                                        Mechanical Jam 2983       1.00      0.60      0.75         5\n",
      "                                             Migration 4003       0.00      0.00      0.00         6\n",
      "                                        Noise, Audible 3273       0.00      0.00      0.00         3\n",
      "                                   Obstruction of Flow 2423       1.00      1.00      1.00         2\n",
      "                                         Off-Label Use 1494       1.00      0.83      0.91         6\n",
      "                    Patient Device Interaction Problem 4001       0.00      0.00      0.00         2\n",
      "                        Patient-Device Incompatibility 2682       1.00      0.33      0.50         3\n",
      "                                    Peeled/Delaminated 1454       1.00      0.40      0.57         5\n",
      "                          Physical Resistance/Sticking 4012       1.00      0.60      0.75         5\n",
      "                                   Positioning Failure 1158       0.00      0.00      0.00         5\n",
      "                                   Positioning Problem 3009       0.00      0.00      0.00         0\n",
      "                                  Premature Activation 1484       0.00      0.00      0.00         4\n",
      "                               Product Quality Problem 1506       1.00      0.20      0.33         5\n",
      "                                    Retraction Problem 1536       0.00      0.00      0.00         3\n",
      "                                    Scratched Material 3020       0.00      0.00      0.00         1\n",
      "                                             Stretched 1601       1.00      0.50      0.67         6\n",
      "                 Tear, Rip or Hole in Device Packaging 2385       0.00      0.00      0.00         0\n",
      "                                   Unintended Movement 3026       1.00      0.46      0.63        13\n",
      "                                              Unstable 1667       0.00      0.00      0.00         1\n",
      "\n",
      "                                                  micro avg       0.97      0.70      0.81       648\n",
      "                                                  macro avg       0.47      0.31      0.35       648\n",
      "                                               weighted avg       0.86      0.70      0.75       648\n",
      "                                                samples avg       0.83      0.79      0.80       648\n",
      "\n"
     ]
    }
   ],
   "source": [
    "# Predict on test set\n",
    "y_pred_svm = svm_model.predict(X_test_tfidf)\n",
    "\n",
    "# Evaluate accuracy\n",
    "accuracy = accuracy_score(y_test, y_pred_svm)\n",
    "classification_rep = classification_report(y_test, y_pred_svm, target_names=mlb.classes_)\n",
    "\n",
    "print(f\"Accuracy: {accuracy}\\n\")\n",
    "print(\"Classification Report:\\n\", classification_rep)"
   ]
  },
  {
   "cell_type": "markdown",
   "id": "bf0f0f74-0e7a-42ae-b14a-50462990da0d",
   "metadata": {
    "id": "bf0f0f74-0e7a-42ae-b14a-50462990da0d"
   },
   "source": [
    "## Build XGBoost Classification Model ##"
   ]
  },
  {
   "cell_type": "code",
   "execution_count": 32,
   "id": "45bda977-d38a-432f-8ced-62c6d8dc5ca6",
   "metadata": {
    "colab": {
     "base_uri": "https://localhost:8080/",
     "height": 1000
    },
    "executionInfo": {
     "elapsed": 37860,
     "status": "ok",
     "timestamp": 1728524713893,
     "user": {
      "displayName": "Katie Mears",
      "userId": "01706533416920320829"
     },
     "user_tz": 420
    },
    "id": "45bda977-d38a-432f-8ced-62c6d8dc5ca6",
    "outputId": "888b2095-f17e-4b26-9822-c05f7ebaaee3"
   },
   "outputs": [
    {
     "data": {
      "text/html": [
       "<style>#sk-container-id-2 {\n",
       "  /* Definition of color scheme common for light and dark mode */\n",
       "  --sklearn-color-text: black;\n",
       "  --sklearn-color-line: gray;\n",
       "  /* Definition of color scheme for unfitted estimators */\n",
       "  --sklearn-color-unfitted-level-0: #fff5e6;\n",
       "  --sklearn-color-unfitted-level-1: #f6e4d2;\n",
       "  --sklearn-color-unfitted-level-2: #ffe0b3;\n",
       "  --sklearn-color-unfitted-level-3: chocolate;\n",
       "  /* Definition of color scheme for fitted estimators */\n",
       "  --sklearn-color-fitted-level-0: #f0f8ff;\n",
       "  --sklearn-color-fitted-level-1: #d4ebff;\n",
       "  --sklearn-color-fitted-level-2: #b3dbfd;\n",
       "  --sklearn-color-fitted-level-3: cornflowerblue;\n",
       "\n",
       "  /* Specific color for light theme */\n",
       "  --sklearn-color-text-on-default-background: var(--sg-text-color, var(--theme-code-foreground, var(--jp-content-font-color1, black)));\n",
       "  --sklearn-color-background: var(--sg-background-color, var(--theme-background, var(--jp-layout-color0, white)));\n",
       "  --sklearn-color-border-box: var(--sg-text-color, var(--theme-code-foreground, var(--jp-content-font-color1, black)));\n",
       "  --sklearn-color-icon: #696969;\n",
       "\n",
       "  @media (prefers-color-scheme: dark) {\n",
       "    /* Redefinition of color scheme for dark theme */\n",
       "    --sklearn-color-text-on-default-background: var(--sg-text-color, var(--theme-code-foreground, var(--jp-content-font-color1, white)));\n",
       "    --sklearn-color-background: var(--sg-background-color, var(--theme-background, var(--jp-layout-color0, #111)));\n",
       "    --sklearn-color-border-box: var(--sg-text-color, var(--theme-code-foreground, var(--jp-content-font-color1, white)));\n",
       "    --sklearn-color-icon: #878787;\n",
       "  }\n",
       "}\n",
       "\n",
       "#sk-container-id-2 {\n",
       "  color: var(--sklearn-color-text);\n",
       "}\n",
       "\n",
       "#sk-container-id-2 pre {\n",
       "  padding: 0;\n",
       "}\n",
       "\n",
       "#sk-container-id-2 input.sk-hidden--visually {\n",
       "  border: 0;\n",
       "  clip: rect(1px 1px 1px 1px);\n",
       "  clip: rect(1px, 1px, 1px, 1px);\n",
       "  height: 1px;\n",
       "  margin: -1px;\n",
       "  overflow: hidden;\n",
       "  padding: 0;\n",
       "  position: absolute;\n",
       "  width: 1px;\n",
       "}\n",
       "\n",
       "#sk-container-id-2 div.sk-dashed-wrapped {\n",
       "  border: 1px dashed var(--sklearn-color-line);\n",
       "  margin: 0 0.4em 0.5em 0.4em;\n",
       "  box-sizing: border-box;\n",
       "  padding-bottom: 0.4em;\n",
       "  background-color: var(--sklearn-color-background);\n",
       "}\n",
       "\n",
       "#sk-container-id-2 div.sk-container {\n",
       "  /* jupyter's `normalize.less` sets `[hidden] { display: none; }`\n",
       "     but bootstrap.min.css set `[hidden] { display: none !important; }`\n",
       "     so we also need the `!important` here to be able to override the\n",
       "     default hidden behavior on the sphinx rendered scikit-learn.org.\n",
       "     See: https://github.com/scikit-learn/scikit-learn/issues/21755 */\n",
       "  display: inline-block !important;\n",
       "  position: relative;\n",
       "}\n",
       "\n",
       "#sk-container-id-2 div.sk-text-repr-fallback {\n",
       "  display: none;\n",
       "}\n",
       "\n",
       "div.sk-parallel-item,\n",
       "div.sk-serial,\n",
       "div.sk-item {\n",
       "  /* draw centered vertical line to link estimators */\n",
       "  background-image: linear-gradient(var(--sklearn-color-text-on-default-background), var(--sklearn-color-text-on-default-background));\n",
       "  background-size: 2px 100%;\n",
       "  background-repeat: no-repeat;\n",
       "  background-position: center center;\n",
       "}\n",
       "\n",
       "/* Parallel-specific style estimator block */\n",
       "\n",
       "#sk-container-id-2 div.sk-parallel-item::after {\n",
       "  content: \"\";\n",
       "  width: 100%;\n",
       "  border-bottom: 2px solid var(--sklearn-color-text-on-default-background);\n",
       "  flex-grow: 1;\n",
       "}\n",
       "\n",
       "#sk-container-id-2 div.sk-parallel {\n",
       "  display: flex;\n",
       "  align-items: stretch;\n",
       "  justify-content: center;\n",
       "  background-color: var(--sklearn-color-background);\n",
       "  position: relative;\n",
       "}\n",
       "\n",
       "#sk-container-id-2 div.sk-parallel-item {\n",
       "  display: flex;\n",
       "  flex-direction: column;\n",
       "}\n",
       "\n",
       "#sk-container-id-2 div.sk-parallel-item:first-child::after {\n",
       "  align-self: flex-end;\n",
       "  width: 50%;\n",
       "}\n",
       "\n",
       "#sk-container-id-2 div.sk-parallel-item:last-child::after {\n",
       "  align-self: flex-start;\n",
       "  width: 50%;\n",
       "}\n",
       "\n",
       "#sk-container-id-2 div.sk-parallel-item:only-child::after {\n",
       "  width: 0;\n",
       "}\n",
       "\n",
       "/* Serial-specific style estimator block */\n",
       "\n",
       "#sk-container-id-2 div.sk-serial {\n",
       "  display: flex;\n",
       "  flex-direction: column;\n",
       "  align-items: center;\n",
       "  background-color: var(--sklearn-color-background);\n",
       "  padding-right: 1em;\n",
       "  padding-left: 1em;\n",
       "}\n",
       "\n",
       "\n",
       "/* Toggleable style: style used for estimator/Pipeline/ColumnTransformer box that is\n",
       "clickable and can be expanded/collapsed.\n",
       "- Pipeline and ColumnTransformer use this feature and define the default style\n",
       "- Estimators will overwrite some part of the style using the `sk-estimator` class\n",
       "*/\n",
       "\n",
       "/* Pipeline and ColumnTransformer style (default) */\n",
       "\n",
       "#sk-container-id-2 div.sk-toggleable {\n",
       "  /* Default theme specific background. It is overwritten whether we have a\n",
       "  specific estimator or a Pipeline/ColumnTransformer */\n",
       "  background-color: var(--sklearn-color-background);\n",
       "}\n",
       "\n",
       "/* Toggleable label */\n",
       "#sk-container-id-2 label.sk-toggleable__label {\n",
       "  cursor: pointer;\n",
       "  display: block;\n",
       "  width: 100%;\n",
       "  margin-bottom: 0;\n",
       "  padding: 0.5em;\n",
       "  box-sizing: border-box;\n",
       "  text-align: center;\n",
       "}\n",
       "\n",
       "#sk-container-id-2 label.sk-toggleable__label-arrow:before {\n",
       "  /* Arrow on the left of the label */\n",
       "  content: \"▸\";\n",
       "  float: left;\n",
       "  margin-right: 0.25em;\n",
       "  color: var(--sklearn-color-icon);\n",
       "}\n",
       "\n",
       "#sk-container-id-2 label.sk-toggleable__label-arrow:hover:before {\n",
       "  color: var(--sklearn-color-text);\n",
       "}\n",
       "\n",
       "/* Toggleable content - dropdown */\n",
       "\n",
       "#sk-container-id-2 div.sk-toggleable__content {\n",
       "  max-height: 0;\n",
       "  max-width: 0;\n",
       "  overflow: hidden;\n",
       "  text-align: left;\n",
       "  /* unfitted */\n",
       "  background-color: var(--sklearn-color-unfitted-level-0);\n",
       "}\n",
       "\n",
       "#sk-container-id-2 div.sk-toggleable__content.fitted {\n",
       "  /* fitted */\n",
       "  background-color: var(--sklearn-color-fitted-level-0);\n",
       "}\n",
       "\n",
       "#sk-container-id-2 div.sk-toggleable__content pre {\n",
       "  margin: 0.2em;\n",
       "  border-radius: 0.25em;\n",
       "  color: var(--sklearn-color-text);\n",
       "  /* unfitted */\n",
       "  background-color: var(--sklearn-color-unfitted-level-0);\n",
       "}\n",
       "\n",
       "#sk-container-id-2 div.sk-toggleable__content.fitted pre {\n",
       "  /* unfitted */\n",
       "  background-color: var(--sklearn-color-fitted-level-0);\n",
       "}\n",
       "\n",
       "#sk-container-id-2 input.sk-toggleable__control:checked~div.sk-toggleable__content {\n",
       "  /* Expand drop-down */\n",
       "  max-height: 200px;\n",
       "  max-width: 100%;\n",
       "  overflow: auto;\n",
       "}\n",
       "\n",
       "#sk-container-id-2 input.sk-toggleable__control:checked~label.sk-toggleable__label-arrow:before {\n",
       "  content: \"▾\";\n",
       "}\n",
       "\n",
       "/* Pipeline/ColumnTransformer-specific style */\n",
       "\n",
       "#sk-container-id-2 div.sk-label input.sk-toggleable__control:checked~label.sk-toggleable__label {\n",
       "  color: var(--sklearn-color-text);\n",
       "  background-color: var(--sklearn-color-unfitted-level-2);\n",
       "}\n",
       "\n",
       "#sk-container-id-2 div.sk-label.fitted input.sk-toggleable__control:checked~label.sk-toggleable__label {\n",
       "  background-color: var(--sklearn-color-fitted-level-2);\n",
       "}\n",
       "\n",
       "/* Estimator-specific style */\n",
       "\n",
       "/* Colorize estimator box */\n",
       "#sk-container-id-2 div.sk-estimator input.sk-toggleable__control:checked~label.sk-toggleable__label {\n",
       "  /* unfitted */\n",
       "  background-color: var(--sklearn-color-unfitted-level-2);\n",
       "}\n",
       "\n",
       "#sk-container-id-2 div.sk-estimator.fitted input.sk-toggleable__control:checked~label.sk-toggleable__label {\n",
       "  /* fitted */\n",
       "  background-color: var(--sklearn-color-fitted-level-2);\n",
       "}\n",
       "\n",
       "#sk-container-id-2 div.sk-label label.sk-toggleable__label,\n",
       "#sk-container-id-2 div.sk-label label {\n",
       "  /* The background is the default theme color */\n",
       "  color: var(--sklearn-color-text-on-default-background);\n",
       "}\n",
       "\n",
       "/* On hover, darken the color of the background */\n",
       "#sk-container-id-2 div.sk-label:hover label.sk-toggleable__label {\n",
       "  color: var(--sklearn-color-text);\n",
       "  background-color: var(--sklearn-color-unfitted-level-2);\n",
       "}\n",
       "\n",
       "/* Label box, darken color on hover, fitted */\n",
       "#sk-container-id-2 div.sk-label.fitted:hover label.sk-toggleable__label.fitted {\n",
       "  color: var(--sklearn-color-text);\n",
       "  background-color: var(--sklearn-color-fitted-level-2);\n",
       "}\n",
       "\n",
       "/* Estimator label */\n",
       "\n",
       "#sk-container-id-2 div.sk-label label {\n",
       "  font-family: monospace;\n",
       "  font-weight: bold;\n",
       "  display: inline-block;\n",
       "  line-height: 1.2em;\n",
       "}\n",
       "\n",
       "#sk-container-id-2 div.sk-label-container {\n",
       "  text-align: center;\n",
       "}\n",
       "\n",
       "/* Estimator-specific */\n",
       "#sk-container-id-2 div.sk-estimator {\n",
       "  font-family: monospace;\n",
       "  border: 1px dotted var(--sklearn-color-border-box);\n",
       "  border-radius: 0.25em;\n",
       "  box-sizing: border-box;\n",
       "  margin-bottom: 0.5em;\n",
       "  /* unfitted */\n",
       "  background-color: var(--sklearn-color-unfitted-level-0);\n",
       "}\n",
       "\n",
       "#sk-container-id-2 div.sk-estimator.fitted {\n",
       "  /* fitted */\n",
       "  background-color: var(--sklearn-color-fitted-level-0);\n",
       "}\n",
       "\n",
       "/* on hover */\n",
       "#sk-container-id-2 div.sk-estimator:hover {\n",
       "  /* unfitted */\n",
       "  background-color: var(--sklearn-color-unfitted-level-2);\n",
       "}\n",
       "\n",
       "#sk-container-id-2 div.sk-estimator.fitted:hover {\n",
       "  /* fitted */\n",
       "  background-color: var(--sklearn-color-fitted-level-2);\n",
       "}\n",
       "\n",
       "/* Specification for estimator info (e.g. \"i\" and \"?\") */\n",
       "\n",
       "/* Common style for \"i\" and \"?\" */\n",
       "\n",
       ".sk-estimator-doc-link,\n",
       "a:link.sk-estimator-doc-link,\n",
       "a:visited.sk-estimator-doc-link {\n",
       "  float: right;\n",
       "  font-size: smaller;\n",
       "  line-height: 1em;\n",
       "  font-family: monospace;\n",
       "  background-color: var(--sklearn-color-background);\n",
       "  border-radius: 1em;\n",
       "  height: 1em;\n",
       "  width: 1em;\n",
       "  text-decoration: none !important;\n",
       "  margin-left: 1ex;\n",
       "  /* unfitted */\n",
       "  border: var(--sklearn-color-unfitted-level-1) 1pt solid;\n",
       "  color: var(--sklearn-color-unfitted-level-1);\n",
       "}\n",
       "\n",
       ".sk-estimator-doc-link.fitted,\n",
       "a:link.sk-estimator-doc-link.fitted,\n",
       "a:visited.sk-estimator-doc-link.fitted {\n",
       "  /* fitted */\n",
       "  border: var(--sklearn-color-fitted-level-1) 1pt solid;\n",
       "  color: var(--sklearn-color-fitted-level-1);\n",
       "}\n",
       "\n",
       "/* On hover */\n",
       "div.sk-estimator:hover .sk-estimator-doc-link:hover,\n",
       ".sk-estimator-doc-link:hover,\n",
       "div.sk-label-container:hover .sk-estimator-doc-link:hover,\n",
       ".sk-estimator-doc-link:hover {\n",
       "  /* unfitted */\n",
       "  background-color: var(--sklearn-color-unfitted-level-3);\n",
       "  color: var(--sklearn-color-background);\n",
       "  text-decoration: none;\n",
       "}\n",
       "\n",
       "div.sk-estimator.fitted:hover .sk-estimator-doc-link.fitted:hover,\n",
       ".sk-estimator-doc-link.fitted:hover,\n",
       "div.sk-label-container:hover .sk-estimator-doc-link.fitted:hover,\n",
       ".sk-estimator-doc-link.fitted:hover {\n",
       "  /* fitted */\n",
       "  background-color: var(--sklearn-color-fitted-level-3);\n",
       "  color: var(--sklearn-color-background);\n",
       "  text-decoration: none;\n",
       "}\n",
       "\n",
       "/* Span, style for the box shown on hovering the info icon */\n",
       ".sk-estimator-doc-link span {\n",
       "  display: none;\n",
       "  z-index: 9999;\n",
       "  position: relative;\n",
       "  font-weight: normal;\n",
       "  right: .2ex;\n",
       "  padding: .5ex;\n",
       "  margin: .5ex;\n",
       "  width: min-content;\n",
       "  min-width: 20ex;\n",
       "  max-width: 50ex;\n",
       "  color: var(--sklearn-color-text);\n",
       "  box-shadow: 2pt 2pt 4pt #999;\n",
       "  /* unfitted */\n",
       "  background: var(--sklearn-color-unfitted-level-0);\n",
       "  border: .5pt solid var(--sklearn-color-unfitted-level-3);\n",
       "}\n",
       "\n",
       ".sk-estimator-doc-link.fitted span {\n",
       "  /* fitted */\n",
       "  background: var(--sklearn-color-fitted-level-0);\n",
       "  border: var(--sklearn-color-fitted-level-3);\n",
       "}\n",
       "\n",
       ".sk-estimator-doc-link:hover span {\n",
       "  display: block;\n",
       "}\n",
       "\n",
       "/* \"?\"-specific style due to the `<a>` HTML tag */\n",
       "\n",
       "#sk-container-id-2 a.estimator_doc_link {\n",
       "  float: right;\n",
       "  font-size: 1rem;\n",
       "  line-height: 1em;\n",
       "  font-family: monospace;\n",
       "  background-color: var(--sklearn-color-background);\n",
       "  border-radius: 1rem;\n",
       "  height: 1rem;\n",
       "  width: 1rem;\n",
       "  text-decoration: none;\n",
       "  /* unfitted */\n",
       "  color: var(--sklearn-color-unfitted-level-1);\n",
       "  border: var(--sklearn-color-unfitted-level-1) 1pt solid;\n",
       "}\n",
       "\n",
       "#sk-container-id-2 a.estimator_doc_link.fitted {\n",
       "  /* fitted */\n",
       "  border: var(--sklearn-color-fitted-level-1) 1pt solid;\n",
       "  color: var(--sklearn-color-fitted-level-1);\n",
       "}\n",
       "\n",
       "/* On hover */\n",
       "#sk-container-id-2 a.estimator_doc_link:hover {\n",
       "  /* unfitted */\n",
       "  background-color: var(--sklearn-color-unfitted-level-3);\n",
       "  color: var(--sklearn-color-background);\n",
       "  text-decoration: none;\n",
       "}\n",
       "\n",
       "#sk-container-id-2 a.estimator_doc_link.fitted:hover {\n",
       "  /* fitted */\n",
       "  background-color: var(--sklearn-color-fitted-level-3);\n",
       "}\n",
       "</style><div id=\"sk-container-id-2\" class=\"sk-top-container\"><div class=\"sk-text-repr-fallback\"><pre>OneVsRestClassifier(estimator=XGBClassifier(base_score=None, booster=None,\n",
       "                                            callbacks=None,\n",
       "                                            colsample_bylevel=None,\n",
       "                                            colsample_bynode=None,\n",
       "                                            colsample_bytree=None, device=None,\n",
       "                                            early_stopping_rounds=None,\n",
       "                                            enable_categorical=False,\n",
       "                                            eval_metric=&#x27;logloss&#x27;,\n",
       "                                            feature_types=None, gamma=None,\n",
       "                                            grow_policy=None,\n",
       "                                            importance_type=None,\n",
       "                                            interaction_constraints=None,\n",
       "                                            learning_rate=None, max_bin=None,\n",
       "                                            max_cat_threshold=None,\n",
       "                                            max_cat_to_onehot=None,\n",
       "                                            max_delta_step=None, max_depth=None,\n",
       "                                            max_leaves=None,\n",
       "                                            min_child_weight=None, missing=nan,\n",
       "                                            monotone_constraints=None,\n",
       "                                            multi_strategy=None,\n",
       "                                            n_estimators=None, n_jobs=None,\n",
       "                                            num_parallel_tree=None,\n",
       "                                            random_state=42, ...))</pre><b>In a Jupyter environment, please rerun this cell to show the HTML representation or trust the notebook. <br />On GitHub, the HTML representation is unable to render, please try loading this page with nbviewer.org.</b></div><div class=\"sk-container\" hidden><div class=\"sk-item sk-dashed-wrapped\"><div class=\"sk-label-container\"><div class=\"sk-label fitted sk-toggleable\"><input class=\"sk-toggleable__control sk-hidden--visually\" id=\"sk-estimator-id-4\" type=\"checkbox\" ><label for=\"sk-estimator-id-4\" class=\"sk-toggleable__label fitted sk-toggleable__label-arrow fitted\">&nbsp;&nbsp;OneVsRestClassifier<a class=\"sk-estimator-doc-link fitted\" rel=\"noreferrer\" target=\"_blank\" href=\"https://scikit-learn.org/1.5/modules/generated/sklearn.multiclass.OneVsRestClassifier.html\">?<span>Documentation for OneVsRestClassifier</span></a><span class=\"sk-estimator-doc-link fitted\">i<span>Fitted</span></span></label><div class=\"sk-toggleable__content fitted\"><pre>OneVsRestClassifier(estimator=XGBClassifier(base_score=None, booster=None,\n",
       "                                            callbacks=None,\n",
       "                                            colsample_bylevel=None,\n",
       "                                            colsample_bynode=None,\n",
       "                                            colsample_bytree=None, device=None,\n",
       "                                            early_stopping_rounds=None,\n",
       "                                            enable_categorical=False,\n",
       "                                            eval_metric=&#x27;logloss&#x27;,\n",
       "                                            feature_types=None, gamma=None,\n",
       "                                            grow_policy=None,\n",
       "                                            importance_type=None,\n",
       "                                            interaction_constraints=None,\n",
       "                                            learning_rate=None, max_bin=None,\n",
       "                                            max_cat_threshold=None,\n",
       "                                            max_cat_to_onehot=None,\n",
       "                                            max_delta_step=None, max_depth=None,\n",
       "                                            max_leaves=None,\n",
       "                                            min_child_weight=None, missing=nan,\n",
       "                                            monotone_constraints=None,\n",
       "                                            multi_strategy=None,\n",
       "                                            n_estimators=None, n_jobs=None,\n",
       "                                            num_parallel_tree=None,\n",
       "                                            random_state=42, ...))</pre></div> </div></div><div class=\"sk-parallel\"><div class=\"sk-parallel-item\"><div class=\"sk-item\"><div class=\"sk-label-container\"><div class=\"sk-label fitted sk-toggleable\"><input class=\"sk-toggleable__control sk-hidden--visually\" id=\"sk-estimator-id-5\" type=\"checkbox\" ><label for=\"sk-estimator-id-5\" class=\"sk-toggleable__label fitted sk-toggleable__label-arrow fitted\">estimator: XGBClassifier</label><div class=\"sk-toggleable__content fitted\"><pre>XGBClassifier(base_score=None, booster=None, callbacks=None,\n",
       "              colsample_bylevel=None, colsample_bynode=None,\n",
       "              colsample_bytree=None, device=None, early_stopping_rounds=None,\n",
       "              enable_categorical=False, eval_metric=&#x27;logloss&#x27;,\n",
       "              feature_types=None, gamma=None, grow_policy=None,\n",
       "              importance_type=None, interaction_constraints=None,\n",
       "              learning_rate=None, max_bin=None, max_cat_threshold=None,\n",
       "              max_cat_to_onehot=None, max_delta_step=None, max_depth=None,\n",
       "              max_leaves=None, min_child_weight=None, missing=nan,\n",
       "              monotone_constraints=None, multi_strategy=None, n_estimators=None,\n",
       "              n_jobs=None, num_parallel_tree=None, random_state=42, ...)</pre></div> </div></div><div class=\"sk-serial\"><div class=\"sk-item\"><div class=\"sk-estimator fitted sk-toggleable\"><input class=\"sk-toggleable__control sk-hidden--visually\" id=\"sk-estimator-id-6\" type=\"checkbox\" ><label for=\"sk-estimator-id-6\" class=\"sk-toggleable__label fitted sk-toggleable__label-arrow fitted\">XGBClassifier</label><div class=\"sk-toggleable__content fitted\"><pre>XGBClassifier(base_score=None, booster=None, callbacks=None,\n",
       "              colsample_bylevel=None, colsample_bynode=None,\n",
       "              colsample_bytree=None, device=None, early_stopping_rounds=None,\n",
       "              enable_categorical=False, eval_metric=&#x27;logloss&#x27;,\n",
       "              feature_types=None, gamma=None, grow_policy=None,\n",
       "              importance_type=None, interaction_constraints=None,\n",
       "              learning_rate=None, max_bin=None, max_cat_threshold=None,\n",
       "              max_cat_to_onehot=None, max_delta_step=None, max_depth=None,\n",
       "              max_leaves=None, min_child_weight=None, missing=nan,\n",
       "              monotone_constraints=None, multi_strategy=None, n_estimators=None,\n",
       "              n_jobs=None, num_parallel_tree=None, random_state=42, ...)</pre></div> </div></div></div></div></div></div></div></div></div>"
      ],
      "text/plain": [
       "OneVsRestClassifier(estimator=XGBClassifier(base_score=None, booster=None,\n",
       "                                            callbacks=None,\n",
       "                                            colsample_bylevel=None,\n",
       "                                            colsample_bynode=None,\n",
       "                                            colsample_bytree=None, device=None,\n",
       "                                            early_stopping_rounds=None,\n",
       "                                            enable_categorical=False,\n",
       "                                            eval_metric='logloss',\n",
       "                                            feature_types=None, gamma=None,\n",
       "                                            grow_policy=None,\n",
       "                                            importance_type=None,\n",
       "                                            interaction_constraints=None,\n",
       "                                            learning_rate=None, max_bin=None,\n",
       "                                            max_cat_threshold=None,\n",
       "                                            max_cat_to_onehot=None,\n",
       "                                            max_delta_step=None, max_depth=None,\n",
       "                                            max_leaves=None,\n",
       "                                            min_child_weight=None, missing=nan,\n",
       "                                            monotone_constraints=None,\n",
       "                                            multi_strategy=None,\n",
       "                                            n_estimators=None, n_jobs=None,\n",
       "                                            num_parallel_tree=None,\n",
       "                                            random_state=42, ...))"
      ]
     },
     "execution_count": 32,
     "metadata": {},
     "output_type": "execute_result"
    }
   ],
   "source": [
    "# Build XGBoost model with OneVsRestClassifier for multi-label classification\n",
    "xgb_model = OneVsRestClassifier(XGBClassifier(objective='binary:logistic', use_label_encoder=False, eval_metric='logloss', random_state=42))\n",
    "xgb_model.fit(X_train_tfidf, y_train)"
   ]
  },
  {
   "cell_type": "code",
   "execution_count": 33,
   "id": "ba56d124-5bc6-4f9e-96a7-6e72b8f623cf",
   "metadata": {
    "colab": {
     "base_uri": "https://localhost:8080/"
    },
    "executionInfo": {
     "elapsed": 376,
     "status": "ok",
     "timestamp": 1728524714266,
     "user": {
      "displayName": "Katie Mears",
      "userId": "01706533416920320829"
     },
     "user_tz": 420
    },
    "id": "ba56d124-5bc6-4f9e-96a7-6e72b8f623cf",
    "outputId": "7cf1a5fc-c123-45c1-95f4-347c2ac003a8"
   },
   "outputs": [
    {
     "name": "stdout",
     "output_type": "stream",
     "text": [
      "Accuracy: 0.8813559322033898\n",
      "\n",
      "Classification Report:\n",
      "                                                              precision    recall  f1-score   support\n",
      "\n",
      "                                    Activation Failure 3270       0.89      0.89      0.89         9\n",
      "Adverse Event Without Identified Device or Use Problem 2993       1.00      1.00      1.00        32\n",
      "                                                 Break 1069       1.00      0.93      0.96        14\n",
      "                 Communication or Transmission Problem 2896       0.00      0.00      0.00         1\n",
      "                                     Component Missing 2306       0.00      0.00      0.00         1\n",
      "                Contamination /Decontamination Problem 2895       0.00      0.00      0.00         1\n",
      "                                                 Crack 1135       0.00      0.00      0.00         1\n",
      "                                     Deflation Problem 1149       0.00      0.00      0.00         2\n",
      "                 Deformation Due to Compressive Stress 2889       1.00      1.00      1.00         4\n",
      "                      Device Damaged by Another Device 2915       1.00      0.80      0.89         5\n",
      "                        Device Dislodged or Dislocated 2923       1.00      1.00      1.00         9\n",
      "                       Difficult or Delayed Activation 2577       1.00      0.80      0.89         5\n",
      "                      Difficult or Delayed Positioning 1157       1.00      1.00      1.00         8\n",
      "                                  Difficult to Advance 2920       0.78      0.96      0.86        26\n",
      "                                   Difficult to Insert 1316       1.00      0.33      0.50         3\n",
      "                            Difficult to Open or Close 2921       1.00      1.00      1.00        11\n",
      "                                   Difficult to Remove 1528       1.00      0.86      0.92        35\n",
      "                                  Entrapment of Device 1212       1.00      1.00      1.00        10\n",
      "                                             Expulsion 2933       0.00      0.00      0.00         0\n",
      "                                    Failure to Advance 2524       0.89      0.89      0.89        18\n",
      "                                      Failure to Cycle 1142       1.00      1.00      1.00       198\n",
      "                                    Failure to Deflate 4060       1.00      0.50      0.67         4\n",
      "                                       Failure to Fire 2610       1.00      1.00      1.00         7\n",
      "                                        Firing Problem 4011       0.00      0.00      0.00         0\n",
      "             Improper or Incorrect Procedure or Method 2017       1.00      1.00      1.00        22\n",
      "                                 Incomplete Coaptation 2507       0.93      1.00      0.97        14\n",
      " Incorrect, Inadequate or Imprecise Result or Readings 1535       0.00      0.00      0.00         0\n",
      "                                     Inflation Problem 1310       0.75      1.00      0.86         3\n",
      "                              Insufficient Information 3190       0.71      1.00      0.83         5\n",
      "                                           Leak/Splash 1354       1.00      1.00      1.00        29\n",
      "                      Loose or Intermittent Connection 1371       0.00      0.00      0.00         1\n",
      "                                 Malposition of Device 2616       1.00      0.83      0.91         6\n",
      "                                  Material Deformation 2976       0.86      1.00      0.92         6\n",
      "                                      Material Rupture 1546       1.00      0.97      0.98        33\n",
      "                                   Material Separation 1562       0.98      1.00      0.99        46\n",
      "                           Material Split, Cut or Torn 4008       0.00      0.00      0.00         2\n",
      "                           Material Too Rigid or Stiff 1544       0.00      0.00      0.00         0\n",
      "                            Material Too Soft/Flexible 4007       0.00      0.00      0.00         2\n",
      "                                 Material Twisted/Bent 2981       0.00      0.00      0.00         0\n",
      "                                        Mechanical Jam 2983       1.00      1.00      1.00         5\n",
      "                                             Migration 4003       1.00      0.50      0.67         6\n",
      "                                        Noise, Audible 3273       0.00      0.00      0.00         3\n",
      "                                   Obstruction of Flow 2423       1.00      1.00      1.00         2\n",
      "                                         Off-Label Use 1494       1.00      1.00      1.00         6\n",
      "                    Patient Device Interaction Problem 4001       1.00      1.00      1.00         2\n",
      "                        Patient-Device Incompatibility 2682       0.00      0.00      0.00         3\n",
      "                                    Peeled/Delaminated 1454       1.00      0.60      0.75         5\n",
      "                          Physical Resistance/Sticking 4012       1.00      1.00      1.00         5\n",
      "                                   Positioning Failure 1158       1.00      1.00      1.00         5\n",
      "                                   Positioning Problem 3009       0.00      0.00      0.00         0\n",
      "                                  Premature Activation 1484       1.00      0.75      0.86         4\n",
      "                               Product Quality Problem 1506       1.00      0.40      0.57         5\n",
      "                                    Retraction Problem 1536       0.00      0.00      0.00         3\n",
      "                                    Scratched Material 3020       0.00      0.00      0.00         1\n",
      "                                             Stretched 1601       0.86      1.00      0.92         6\n",
      "                 Tear, Rip or Hole in Device Packaging 2385       0.00      0.00      0.00         0\n",
      "                                   Unintended Movement 3026       1.00      1.00      1.00        13\n",
      "                                              Unstable 1667       0.00      0.00      0.00         1\n",
      "\n",
      "                                                  micro avg       0.97      0.92      0.95       648\n",
      "                                                  macro avg       0.63      0.59      0.60       648\n",
      "                                               weighted avg       0.94      0.92      0.93       648\n",
      "                                                samples avg       0.96      0.94      0.95       648\n",
      "\n"
     ]
    }
   ],
   "source": [
    "# Prediction on test set\n",
    "y_pred_xgb = xgb_model.predict(X_test_tfidf)\n",
    "\n",
    "# Evaluate accuracy\n",
    "accuracy = accuracy_score(y_test, y_pred_xgb)\n",
    "classification_rep = classification_report(y_test, y_pred_xgb, target_names=mlb.classes_)\n",
    "\n",
    "print(f\"Accuracy: {accuracy}\\n\")\n",
    "print(\"Classification Report:\\n\", classification_rep)"
   ]
  },
  {
   "cell_type": "code",
   "execution_count": 104,
   "id": "bbbaced3-d71d-44e4-848e-48a5980da796",
   "metadata": {
    "executionInfo": {
     "elapsed": 3,
     "status": "ok",
     "timestamp": 1728524714267,
     "user": {
      "displayName": "Katie Mears",
      "userId": "01706533416920320829"
     },
     "user_tz": 420
    },
    "id": "bbbaced3-d71d-44e4-848e-48a5980da796"
   },
   "outputs": [],
   "source": [
    "# Marvin's comments:\n",
    "# Class imbalance is a concern for our data set, given that not all reported problems will have all possible device problems.\n",
    "# Given this, the SVM model performed poorly compared to the XGBoost model. This was expected as XGBoost is the model that\n",
    "# better handles class imbalances anyway. And, SVM also struggles with multi-class.\n",
    "\n",
    "# key performance metric to look at here are:\n",
    "# 1. support = values closer to zero indicate a given label appears very few times in the dataset.\n",
    "# 2. weighted average = ndicates the overall performance across all classes.\n",
    "\n",
    "# Next steps --> improve with XGBoost by tuning hyperparameters! Forget SVM :/"
   ]
  }
 ],
 "metadata": {
  "colab": {
   "provenance": []
  },
  "kernelspec": {
   "display_name": "Python 3 (ipykernel)",
   "language": "python",
   "name": "python3"
  },
  "language_info": {
   "codemirror_mode": {
    "name": "ipython",
    "version": 3
   },
   "file_extension": ".py",
   "mimetype": "text/x-python",
   "name": "python",
   "nbconvert_exporter": "python",
   "pygments_lexer": "ipython3",
   "version": "3.9.19"
  }
 },
 "nbformat": 4,
 "nbformat_minor": 5
}
